{
 "cells": [
  {
   "cell_type": "markdown",
   "id": "9689e010",
   "metadata": {},
   "source": [
    "# Vergleich der Lernergebnisse tiefer Netzwerke auf balancierten und unbalancierten Daten auf Basis von AlexNet und VGG16\n",
    "\n",
    "### Modul Deep Learning, M.Sc. Angewandte KI, 02/2023"
   ]
  },
  {
   "cell_type": "markdown",
   "id": "99c17d7e-a2ba-4be4-aab6-0f5f0eff0c5f",
   "metadata": {},
   "source": [
    "## Kurzfassung"
   ]
  },
  {
   "cell_type": "markdown",
   "id": "5ac2014c-8cf5-4472-bcfb-4efed2e97369",
   "metadata": {},
   "source": [
    "Als Grundlage in dieser Ausarbeitung dient der auf der Plattform Kaggle verfügbare Datensatz \"Face Mask Detection\". Es handelt sich hierbei um einen unbalancierten Datensatz, das heißt, die verfügbaren Daten sind ungleich auf die vorhandenen Klassen verteilt. Mittels Oversampling durch den SMOTE-Algorithmus werden künstlich Daten generiert, um ein Gleichgewicht in den Daten herzustellen. Anschließend erfolgt das Training von Deep Learning Convolutional Neural Networks auf Basis der AlexNet- sowie VGG16-Architektur sowohl auf den unbalancierten, als auch auf den balancierten Daten. Hierbei kann gezeigt werden, dass die künstliche Datengenerierung keinen Vorteil beim Training der Netze bringt und diese sogar besser auf den unbalancierten Daten abschnitten. Zudem wird gezeigt, dass die Lernrate vor allem bei sehr tiefen Netzen entscheidend für den Lernerfolg ist."
   ]
  },
  {
   "cell_type": "markdown",
   "id": "7618253a-8b47-4c1f-9713-7a663c986123",
   "metadata": {},
   "source": [
    "## Inhaltsverzeichnis"
   ]
  },
  {
   "cell_type": "markdown",
   "id": "76f6b03d-53ef-4dec-8b6f-d9e9b0a1097b",
   "metadata": {},
   "source": [
    "1. [Einleitung](#Einleitung)<br>\n",
    "2. [Vorbereitungen](#Vorbereitungen)<br>\n",
    "    2.1 [Benötigte Installationen](#Installationen)<br>\n",
    "    2.2 [Import der Bibliotheken](#Bibliotheken)<br>\n",
    "3. [Datenimport und Analyse](#Datenimport)<br>\n",
    "4. [Erstellung Trainings- und Testdatensätze](#Datensplit)<br>\n",
    "5. [Definition Image Generator für unbalancierte Daten](#ImGen_Org)<br>\n",
    "6. [Generierung der Oversampling-Daten](#OS-Daten)<br>\n",
    "    6.1 [Aufteilen in in X- und Y-Datensatz](#Split-X-Y)<br>\n",
    "    6.2 [Oversampling mittels SMOTE](#Smote)<br>\n",
    "7. [Definition Image Generator für Oversampling-Daten](#ImGen_OS)<br>\n",
    "8. [AlexNet](#AlexNet)<br>\n",
    "    8.1 [Unbalancierte Daten](#AlexNet_Org)<br>\n",
    "    8.2 [Mittels Oversampling balancierte Daten](#AlexNet_OS)<br>\n",
    "9. [VGG16](#VGG16)<br>\n",
    "    9.1 [Unbalancierte Daten](#VGG16_Org)<br>\n",
    "    9.2 [Mittels Oversampling balancierte Daten](#VGG16_OS)<br>\n",
    "10. [Vergleich](#Vergleich)<br>\n",
    "11. [Fazit und Ausblick](#Fazit)<br>\n",
    "12. [Literaturverzeichnis](#Literatur)<br>"
   ]
  },
  {
   "cell_type": "markdown",
   "id": "a9143af6-f92c-47ef-affc-644a8f924a80",
   "metadata": {},
   "source": [
    "<a name=\"Einleitung\"></a>\n",
    "## 1. Einleitung"
   ]
  },
  {
   "cell_type": "markdown",
   "id": "a61fd99e-7ca0-4cf7-9eaf-005b9022dc05",
   "metadata": {},
   "source": [
    "Deep Learning ist eine Teildisziplin aus dem Bereich des maschinellen Lernen, die darauf basiert, tiefe Netzwerkarchitekturen zu nutzen. Großer Vorteil ist hierbei das End-to-End-Training, was bedeutet, dass die Verarbeitung von Bildern zu Features automatisch vom neuronalen Netz vorgenommen wird und nicht mehr wie beim klassichen maschinellen Lernen einzelne Input-Variablen übergeben werden. [9] Vorallem im Bereich Computer Vision konnten hier durch das Konzept von sogenannten Convolutional Neural Networks, kurz CNN, große Fortschritte erzielt werden. In den vergangenen Jahren wurden immer bessere CNN-Architekturen entwickelt, zu den bekanntesten hierbei zählen AlexNet und VGG16. \n",
    "\n",
    "Gleichzeitig besteht ein Problem im Bereich des maschinellen Lernens häufig dadurch, dass die Daten für das Training unbalanciert, d.h. ungleichmäßig auf die jeweiligen Kategorien verteilt sind. Dadurch besteht das Risiko, dass unterrepräsentierte Kategorien häufig nicht korrekt erkannt werden können.\n",
    "\n",
    "In der vorliegenden Hausarbeit geht es darum zu prüfen, inwiefern tiefe CNN-Modelle auf Basis unbalancierter Daten lernen können und wie das Lernergebnis ggf. optimiert werden kann. Anschließend erfolgt das Training der Daten auf mittels Oversampling künstlich balancierten Daten zum Vergleich, ob die Balance der Daten einen Einfluss auf das Lernergebnis hat. \n",
    "\n",
    "Als Datengrundlage für diese Ausarbeitung dient der auf der Plattform Kaggle verfügbare Datensatz \"Face Mask Detection\", welcher vom dortigen Nutzer \"LARXEL\" vor etwa 3 Jahren veröffentlich wurde. Der Datensatz wurde bereits in einer vorherigen Hausarbeit im Modul \"Maschinelles Lernen\" im Sommersemester 2022 verwendet und liegt daher bereits in einer transformierten Form vor.\n",
    "\n",
    "Im zweiten Kapitel erfolgt zunächst der Import der benötigten Bibliotheken. Da einige Bibliotheken nicht standardmäßig installiert sind, wird dies ebenfalls in diesem Kapitel durchgeführt.<br>\n",
    "Das dritte Kapitel dient für den Import der benötigten Daten und stellt diese kurz vor. Zudem wird eine Analyse der Datenverteilung in den einzelnen Klassen vorgenommen.<br>\n",
    "Anschließend erfolgt im vierten Kapitel die Aufteilung der Daten in Training- sowie Testdatensatz, bevor im fünften Kapitel Bildgeneratoren für das spätere Training mit den unbalancierten definiert werden.<br>\n",
    "Das sechste Kapitel behandelt die Generierung der balancierten Daten mittels SMOTE-Algorithmus, wobei hier zunächst eine weitere Aufteilung der Datensätze in Input- und Zieldaten vorgenommen wird. <br>\n",
    "Im darauffolgenden Kapitel werden anschließend die Bildgeneratoren für das Training mit den künstlich generierten Datensätzen erzeugt.<br>\n",
    "Die Kapitel 8 und 9 behandeln jeweils das Training mittels AlexNet- bzw. VGG16-Modellen. In der ersten Stufe, dem Training auf unbalancierten Daten, wird zunächst versucht, einen Accuracy-Wert von 95% oder größer sowie einen Loss-Wert von maximal 15% zu erreichen. In der zweiten Stufe wird das Training auf den balancierten Daten durchgeführt, die mittels Oversampling generiert wurden.<br>\n",
    "Das zehnte Kapitel fasst die Ergebnisse zusammen und ermöglicht zunächst einen visuellen Vergleich des Trainingsverlaufs aller Modelle. Anschließend werden die Evaulationsergebnisse in Tabellenform gegenübergestellt.<br>\n",
    "Im letzten Kapitel wird abschließend ein Fazit gezogen sowie ein Ausblick aufgezeigt, wie die Arbeit fortgesetzt werden könnte."
   ]
  },
  {
   "cell_type": "markdown",
   "id": "357b7266-c785-41ef-8f3a-62d9c748e5d9",
   "metadata": {},
   "source": [
    "<a name=\"Vorbereitungen\"></a>\n",
    "## 2. Vorbereitungen"
   ]
  },
  {
   "cell_type": "markdown",
   "id": "5b955305-de0b-4539-8010-6486bb880c29",
   "metadata": {},
   "source": [
    "<a name=\"Installationen\"></a>\n",
    "### 2.1 Benötigte Installationen"
   ]
  },
  {
   "cell_type": "markdown",
   "id": "3518a39d-3550-4987-b8d4-a2d33ce6f4ca",
   "metadata": {},
   "source": [
    "Als erster Schritt ist es zunächst notwendig, folgende Bibliotheken zu installieren:\n",
    "- `CV2` bzw. `OpenCV` zur Verarbeitung von Bilddaten\n",
    "- `Tensorflow` für das Deep Learning\n",
    "- `Imblearn` zur Generierung von Over-Sampling-Daten\n",
    "\n",
    "Mittels if-Schleife wird geprüft, ob eine Installation bereits vorhanden ist."
   ]
  },
  {
   "cell_type": "code",
   "execution_count": 1,
   "id": "7bceb742-6805-4126-be63-c362b849a13d",
   "metadata": {},
   "outputs": [
    {
     "name": "stdout",
     "output_type": "stream",
     "text": [
      "Modul 'opencv-python' ist bereits installiert.\n"
     ]
    }
   ],
   "source": [
    "opencv = !pip list | grep opencv-python\n",
    "if len(opencv) == 0:\n",
    "    !pip install opencv-python\n",
    "else:\n",
    "    print(\"Modul 'opencv-python' ist bereits installiert.\")"
   ]
  },
  {
   "cell_type": "code",
   "execution_count": 2,
   "id": "cc5721b4-90a9-4921-8db0-9ce4184f531a",
   "metadata": {},
   "outputs": [
    {
     "name": "stdout",
     "output_type": "stream",
     "text": [
      "Modul 'tensorflow' ist bereits installiert.\n"
     ]
    }
   ],
   "source": [
    "tensorflow = !pip list | grep tensorflow\n",
    "if len(tensorflow) == 0:\n",
    "    !pip install tensorflow\n",
    "else:\n",
    "    print(\"Modul 'tensorflow' ist bereits installiert.\")"
   ]
  },
  {
   "cell_type": "code",
   "execution_count": 3,
   "id": "02681dbd-e106-4bd4-80cc-92cef7346397",
   "metadata": {},
   "outputs": [
    {
     "name": "stdout",
     "output_type": "stream",
     "text": [
      "Modul 'imblearn' ist bereits installiert.\n"
     ]
    }
   ],
   "source": [
    "imblearn = !pip list | grep imblearn\n",
    "if len(imblearn) == 0:\n",
    "    !pip install imblearn\n",
    "else:\n",
    "    print(\"Modul 'imblearn' ist bereits installiert.\")"
   ]
  },
  {
   "cell_type": "markdown",
   "id": "73d884e5-e3dd-486b-9d29-7e5ffd3f76ec",
   "metadata": {},
   "source": [
    "<a name=\"Bibliotheken\"></a>\n",
    "### 2.2 Import der Bibliotheken"
   ]
  },
  {
   "cell_type": "markdown",
   "id": "e0fb02e5-ad74-4974-8bd8-c36a62df563f",
   "metadata": {},
   "source": [
    "Nachdem nun die benötigten Installationen durchgeführt wurden müssen als nächsten die Bibliotheken importiert werden, die für die Hausarbeit relevant sind. Neben den bereits oben genannten sind dies `Pandas`, `NumPy`, `OS`, `Matplotlib.PyPlot` sowie `Train-Test-Split` aus dem Modul `Scikit-Learn`."
   ]
  },
  {
   "cell_type": "code",
   "execution_count": 4,
   "id": "02051def-5148-4be4-8e9e-d7c1b6f7befa",
   "metadata": {},
   "outputs": [
    {
     "name": "stderr",
     "output_type": "stream",
     "text": [
      "2023-02-13 16:22:41.039429: I tensorflow/core/platform/cpu_feature_guard.cc:193] This TensorFlow binary is optimized with oneAPI Deep Neural Network Library (oneDNN) to use the following CPU instructions in performance-critical operations:  AVX2 FMA\n",
      "To enable them in other operations, rebuild TensorFlow with the appropriate compiler flags.\n",
      "2023-02-13 16:22:41.755137: W tensorflow/compiler/xla/stream_executor/platform/default/dso_loader.cc:64] Could not load dynamic library 'libnvinfer.so.7'; dlerror: libnvinfer.so.7: cannot open shared object file: No such file or directory; LD_LIBRARY_PATH: /opt/conda/lib/python3.10/site-packages/cv2/../../lib64:/opt/conda/lib/:/usr/local/nvidia/lib:/usr/local/nvidia/lib64\n",
      "2023-02-13 16:22:41.755252: W tensorflow/compiler/xla/stream_executor/platform/default/dso_loader.cc:64] Could not load dynamic library 'libnvinfer_plugin.so.7'; dlerror: libnvinfer_plugin.so.7: cannot open shared object file: No such file or directory; LD_LIBRARY_PATH: /opt/conda/lib/python3.10/site-packages/cv2/../../lib64:/opt/conda/lib/:/usr/local/nvidia/lib:/usr/local/nvidia/lib64\n",
      "2023-02-13 16:22:41.755260: W tensorflow/compiler/tf2tensorrt/utils/py_utils.cc:38] TF-TRT Warning: Cannot dlopen some TensorRT libraries. If you would like to use Nvidia GPU with TensorRT, please make sure the missing libraries mentioned above are installed properly.\n"
     ]
    }
   ],
   "source": [
    "import pandas as pd\n",
    "import numpy as np\n",
    "import cv2\n",
    "import os\n",
    "import matplotlib.pyplot as plt\n",
    "from sklearn.model_selection import train_test_split\n",
    "import tensorflow as tf\n",
    "from tensorflow import keras\n",
    "from keras.utils.np_utils import to_categorical  \n",
    "from tensorflow.keras.models import Sequential\n",
    "from tensorflow.keras.layers import Conv2D, MaxPooling2D, Flatten, Dense, Input\n",
    "from tensorflow.keras import Model"
   ]
  },
  {
   "cell_type": "markdown",
   "id": "f3ced12f-7b0c-4df3-bbc4-946a2b42e3fa",
   "metadata": {},
   "source": [
    "<a name=\"Datenimport\"></a>\n",
    "## 3. Datenimport und Analyse"
   ]
  },
  {
   "cell_type": "markdown",
   "id": "796093e3-13cd-4a17-a7f6-cea51a2bcccd",
   "metadata": {},
   "source": [
    "Folgend werden nun die Daten importiert, die zur Bearbeitung erforderlich sind. Die Kaggle-Daten liegen in Form von XML-Dateien vor und müssen daher für eine sinnvolle Verarbeitung zunächst umformatiert werden. Da dies bereits in der vorherigen Hausarbeit geschehen ist, werden die dort bereits aufbereiteten Daten als DataFrame importiert, um diesen Schritt nicht erneut durchzuführen."
   ]
  },
  {
   "cell_type": "code",
   "execution_count": 5,
   "id": "e5d02822-9a7f-4148-8384-0a14d8539775",
   "metadata": {},
   "outputs": [],
   "source": [
    "df = pd.read_csv(\"source/data/dfData.csv\")"
   ]
  },
  {
   "cell_type": "markdown",
   "id": "fbebf5d5-4982-48a0-8b9e-bbbfa74cb328",
   "metadata": {},
   "source": [
    "Insgesamt sind 4072 Datensätze vorhanden - das bedeutet, dass dementsprechend auch 4072 zugehörige Bilddateien im .png-Format vorhanden sind.<br>\n",
    "\n",
    "\n",
    "Das DataFrame enthält neben Angaben zum Filename der Bilddateien auch Informationen zur Größe und Breite des Bildes. Weiterhin sind Informationen zu den Labeln vorhanden, die für die Klassifizierung herangezogen werden:\n",
    "- `with_mask`: beschreibt Objekte, die eine Maske korrekt tragen\n",
    "- `mask_weared_incorrect`: beschreibt Objekte, die zwar eine Maske tragen, jedoch nicht korrekt\n",
    "- `without_mask` : beschreibt Objekte, die keine Maske tragen"
   ]
  },
  {
   "cell_type": "code",
   "execution_count": 6,
   "id": "0b9fab63-bc4c-4ba6-be59-1afdbec05417",
   "metadata": {},
   "outputs": [
    {
     "data": {
      "text/html": [
       "<div>\n",
       "<style scoped>\n",
       "    .dataframe tbody tr th:only-of-type {\n",
       "        vertical-align: middle;\n",
       "    }\n",
       "\n",
       "    .dataframe tbody tr th {\n",
       "        vertical-align: top;\n",
       "    }\n",
       "\n",
       "    .dataframe thead th {\n",
       "        text-align: right;\n",
       "    }\n",
       "</style>\n",
       "<table border=\"1\" class=\"dataframe\">\n",
       "  <thead>\n",
       "    <tr style=\"text-align: right;\">\n",
       "      <th></th>\n",
       "      <th>file</th>\n",
       "      <th>width</th>\n",
       "      <th>height</th>\n",
       "      <th>label</th>\n",
       "      <th>xmin</th>\n",
       "      <th>ymin</th>\n",
       "      <th>xmax</th>\n",
       "      <th>ymax</th>\n",
       "      <th>file_image</th>\n",
       "      <th>file_annotation</th>\n",
       "      <th>image_bb</th>\n",
       "    </tr>\n",
       "  </thead>\n",
       "  <tbody>\n",
       "    <tr>\n",
       "      <th>0</th>\n",
       "      <td>maksssksksss0</td>\n",
       "      <td>512</td>\n",
       "      <td>366</td>\n",
       "      <td>without_mask</td>\n",
       "      <td>79</td>\n",
       "      <td>105</td>\n",
       "      <td>109</td>\n",
       "      <td>142</td>\n",
       "      <td>maksssksksss0.png</td>\n",
       "      <td>maksssksksss0.xml</td>\n",
       "      <td>maksssksksss0_0.png</td>\n",
       "    </tr>\n",
       "    <tr>\n",
       "      <th>1</th>\n",
       "      <td>maksssksksss0</td>\n",
       "      <td>512</td>\n",
       "      <td>366</td>\n",
       "      <td>with_mask</td>\n",
       "      <td>185</td>\n",
       "      <td>100</td>\n",
       "      <td>226</td>\n",
       "      <td>144</td>\n",
       "      <td>maksssksksss0.png</td>\n",
       "      <td>maksssksksss0.xml</td>\n",
       "      <td>maksssksksss0_1.png</td>\n",
       "    </tr>\n",
       "    <tr>\n",
       "      <th>2</th>\n",
       "      <td>maksssksksss0</td>\n",
       "      <td>512</td>\n",
       "      <td>366</td>\n",
       "      <td>without_mask</td>\n",
       "      <td>325</td>\n",
       "      <td>90</td>\n",
       "      <td>360</td>\n",
       "      <td>141</td>\n",
       "      <td>maksssksksss0.png</td>\n",
       "      <td>maksssksksss0.xml</td>\n",
       "      <td>maksssksksss0_2.png</td>\n",
       "    </tr>\n",
       "    <tr>\n",
       "      <th>3</th>\n",
       "      <td>maksssksksss1</td>\n",
       "      <td>400</td>\n",
       "      <td>156</td>\n",
       "      <td>with_mask</td>\n",
       "      <td>321</td>\n",
       "      <td>34</td>\n",
       "      <td>354</td>\n",
       "      <td>69</td>\n",
       "      <td>maksssksksss1.png</td>\n",
       "      <td>maksssksksss1.xml</td>\n",
       "      <td>maksssksksss1_3.png</td>\n",
       "    </tr>\n",
       "    <tr>\n",
       "      <th>4</th>\n",
       "      <td>maksssksksss1</td>\n",
       "      <td>400</td>\n",
       "      <td>156</td>\n",
       "      <td>with_mask</td>\n",
       "      <td>224</td>\n",
       "      <td>38</td>\n",
       "      <td>261</td>\n",
       "      <td>73</td>\n",
       "      <td>maksssksksss1.png</td>\n",
       "      <td>maksssksksss1.xml</td>\n",
       "      <td>maksssksksss1_4.png</td>\n",
       "    </tr>\n",
       "    <tr>\n",
       "      <th>...</th>\n",
       "      <td>...</td>\n",
       "      <td>...</td>\n",
       "      <td>...</td>\n",
       "      <td>...</td>\n",
       "      <td>...</td>\n",
       "      <td>...</td>\n",
       "      <td>...</td>\n",
       "      <td>...</td>\n",
       "      <td>...</td>\n",
       "      <td>...</td>\n",
       "      <td>...</td>\n",
       "    </tr>\n",
       "    <tr>\n",
       "      <th>4067</th>\n",
       "      <td>maksssksksss98</td>\n",
       "      <td>400</td>\n",
       "      <td>267</td>\n",
       "      <td>with_mask</td>\n",
       "      <td>263</td>\n",
       "      <td>62</td>\n",
       "      <td>287</td>\n",
       "      <td>85</td>\n",
       "      <td>maksssksksss98.png</td>\n",
       "      <td>maksssksksss98.xml</td>\n",
       "      <td>maksssksksss98_4067.png</td>\n",
       "    </tr>\n",
       "    <tr>\n",
       "      <th>4068</th>\n",
       "      <td>maksssksksss98</td>\n",
       "      <td>400</td>\n",
       "      <td>267</td>\n",
       "      <td>with_mask</td>\n",
       "      <td>344</td>\n",
       "      <td>80</td>\n",
       "      <td>377</td>\n",
       "      <td>106</td>\n",
       "      <td>maksssksksss98.png</td>\n",
       "      <td>maksssksksss98.xml</td>\n",
       "      <td>maksssksksss98_4068.png</td>\n",
       "    </tr>\n",
       "    <tr>\n",
       "      <th>4069</th>\n",
       "      <td>maksssksksss99</td>\n",
       "      <td>400</td>\n",
       "      <td>267</td>\n",
       "      <td>mask_weared_incorrect</td>\n",
       "      <td>181</td>\n",
       "      <td>54</td>\n",
       "      <td>273</td>\n",
       "      <td>162</td>\n",
       "      <td>maksssksksss99.png</td>\n",
       "      <td>maksssksksss99.xml</td>\n",
       "      <td>maksssksksss99_4069.png</td>\n",
       "    </tr>\n",
       "    <tr>\n",
       "      <th>4070</th>\n",
       "      <td>maksssksksss99</td>\n",
       "      <td>400</td>\n",
       "      <td>267</td>\n",
       "      <td>with_mask</td>\n",
       "      <td>99</td>\n",
       "      <td>87</td>\n",
       "      <td>176</td>\n",
       "      <td>165</td>\n",
       "      <td>maksssksksss99.png</td>\n",
       "      <td>maksssksksss99.xml</td>\n",
       "      <td>maksssksksss99_4070.png</td>\n",
       "    </tr>\n",
       "    <tr>\n",
       "      <th>4071</th>\n",
       "      <td>maksssksksss99</td>\n",
       "      <td>400</td>\n",
       "      <td>267</td>\n",
       "      <td>with_mask</td>\n",
       "      <td>289</td>\n",
       "      <td>99</td>\n",
       "      <td>355</td>\n",
       "      <td>233</td>\n",
       "      <td>maksssksksss99.png</td>\n",
       "      <td>maksssksksss99.xml</td>\n",
       "      <td>maksssksksss99_4071.png</td>\n",
       "    </tr>\n",
       "  </tbody>\n",
       "</table>\n",
       "<p>4072 rows × 11 columns</p>\n",
       "</div>"
      ],
      "text/plain": [
       "                file  width  height                  label  xmin  ymin  xmax  \\\n",
       "0      maksssksksss0    512     366           without_mask    79   105   109   \n",
       "1      maksssksksss0    512     366              with_mask   185   100   226   \n",
       "2      maksssksksss0    512     366           without_mask   325    90   360   \n",
       "3      maksssksksss1    400     156              with_mask   321    34   354   \n",
       "4      maksssksksss1    400     156              with_mask   224    38   261   \n",
       "...              ...    ...     ...                    ...   ...   ...   ...   \n",
       "4067  maksssksksss98    400     267              with_mask   263    62   287   \n",
       "4068  maksssksksss98    400     267              with_mask   344    80   377   \n",
       "4069  maksssksksss99    400     267  mask_weared_incorrect   181    54   273   \n",
       "4070  maksssksksss99    400     267              with_mask    99    87   176   \n",
       "4071  maksssksksss99    400     267              with_mask   289    99   355   \n",
       "\n",
       "      ymax          file_image     file_annotation                 image_bb  \n",
       "0      142   maksssksksss0.png   maksssksksss0.xml      maksssksksss0_0.png  \n",
       "1      144   maksssksksss0.png   maksssksksss0.xml      maksssksksss0_1.png  \n",
       "2      141   maksssksksss0.png   maksssksksss0.xml      maksssksksss0_2.png  \n",
       "3       69   maksssksksss1.png   maksssksksss1.xml      maksssksksss1_3.png  \n",
       "4       73   maksssksksss1.png   maksssksksss1.xml      maksssksksss1_4.png  \n",
       "...    ...                 ...                 ...                      ...  \n",
       "4067    85  maksssksksss98.png  maksssksksss98.xml  maksssksksss98_4067.png  \n",
       "4068   106  maksssksksss98.png  maksssksksss98.xml  maksssksksss98_4068.png  \n",
       "4069   162  maksssksksss99.png  maksssksksss99.xml  maksssksksss99_4069.png  \n",
       "4070   165  maksssksksss99.png  maksssksksss99.xml  maksssksksss99_4070.png  \n",
       "4071   233  maksssksksss99.png  maksssksksss99.xml  maksssksksss99_4071.png  \n",
       "\n",
       "[4072 rows x 11 columns]"
      ]
     },
     "execution_count": 6,
     "metadata": {},
     "output_type": "execute_result"
    }
   ],
   "source": [
    "df"
   ]
  },
  {
   "cell_type": "markdown",
   "id": "8ff6527a-d0af-4003-8146-b76098fb0526",
   "metadata": {},
   "source": [
    "Wie sich zeigt, sind die Daten sehr unbalanciert, d.h. ungleich auf die vorhandenen Klassen verteilt. Vor allem die Klasse `with_mask` ist sehr präsent, wohingegen das Label `mask_weared_incorrect` kaum vorhanden ist und somit im Vergleich nur wenig Daten für das Training in dieser Klasse zur Verfügung stehen."
   ]
  },
  {
   "cell_type": "code",
   "execution_count": 7,
   "id": "ae59135d-dc9f-48dc-b10f-2d09c6bc7c65",
   "metadata": {},
   "outputs": [],
   "source": [
    "sum_labels = {'with_mask': 0 , 'without_mask': 0, 'mask_weared_incorrect': 0}\n",
    "for i in df.index:\n",
    "    if df['label'].iloc[i] == 'with_mask':\n",
    "        sum_labels['with_mask'] += 1\n",
    "    if df['label'].iloc[i] == 'without_mask':\n",
    "        sum_labels['without_mask'] += 1\n",
    "    if df['label'].iloc[i] == 'mask_weared_incorrect':\n",
    "        sum_labels['mask_weared_incorrect'] += 1"
   ]
  },
  {
   "cell_type": "code",
   "execution_count": 8,
   "id": "374a71db-f55b-4e62-8e81-032887befb87",
   "metadata": {},
   "outputs": [
    {
     "data": {
      "image/png": "[encoded data removed]",
      "text/plain": [
       "<Figure size 600x400 with 1 Axes>"
      ]
     },
     "metadata": {},
     "output_type": "display_data"
    }
   ],
   "source": [
    "fig, ax = plt.subplots(figsize=(6, 4))\n",
    "fig.tight_layout(pad=0.5, w_pad=2.0, h_pad=3.0)\n",
    "bar_labels = ax.bar(*zip(*sum_labels.items()), color = 'lightgreen')\n",
    "ax.set_ylabel(\"Anzahl\")\n",
    "ax.set_title(\"Datenpunkte je Klasse\", fontsize = 14, fontweight = 'bold')\n",
    "ax.bar_label(bar_labels)\n",
    "plt.show()"
   ]
  },
  {
   "cell_type": "markdown",
   "id": "cffe36b6-13dd-4bcf-bc9b-70f967b6893a",
   "metadata": {},
   "source": [
    "Nachdem nun das DataFrame importiert wurde, wird noch der benötigte Pfad zu den Bilddateien als Variable angelegt."
   ]
  },
  {
   "cell_type": "code",
   "execution_count": 9,
   "id": "2c62d46f-58a2-4595-b192-eaef8075b1c4",
   "metadata": {},
   "outputs": [],
   "source": [
    "img_path ='source/img2/'\n",
    "img_files = os.listdir(img_path)"
   ]
  },
  {
   "cell_type": "markdown",
   "id": "f3621a6e-388b-4e68-9e9a-fac65db35fd2",
   "metadata": {},
   "source": [
    "Es ist erkennbar, dass die Anzahl der Bilddateien mit der Anzahl der Datensätze im DataFrame übereinstimmt (=4072)."
   ]
  },
  {
   "cell_type": "code",
   "execution_count": 10,
   "id": "bae98367-b7c3-45eb-a999-5692500aaf7b",
   "metadata": {},
   "outputs": [
    {
     "data": {
      "text/plain": [
       "4072"
      ]
     },
     "execution_count": 10,
     "metadata": {},
     "output_type": "execute_result"
    }
   ],
   "source": [
    "len(img_files)"
   ]
  },
  {
   "cell_type": "code",
   "execution_count": 11,
   "id": "840b6d44-ccef-4335-b5fe-9cfdac929fbc",
   "metadata": {},
   "outputs": [
    {
     "data": {
      "text/plain": [
       "'source/img2/maksssksksss372_1450.png'"
      ]
     },
     "execution_count": 11,
     "metadata": {},
     "output_type": "execute_result"
    }
   ],
   "source": [
    "img = img_path+img_files[2]\n",
    "img"
   ]
  },
  {
   "cell_type": "markdown",
   "id": "cde032c9-27a8-41f4-bc8f-dc6f7f7aa286",
   "metadata": {},
   "source": [
    "Zur Überprüfung der Bilddateien wird nun eine .png-Datei eingelesen und anschließend dargestellt. <br>\n",
    "Zu beachten ist, dass das Modul CV2 grundsätzlich mit BGR-Farbkanälen arbeitet, was eine Umkonvertierung in das RGB-Format erforderlich macht.<br>\n",
    "Das Objekt `im` beeinhaltet zu jedem einzelnen Pixel die jeweiligen RGB-Werte als Arrays.<br>\n",
    "Durch die Ausgabe der Shape des Bildes lässt sich feststellen, dass dieses im Format 24x21 Pixeln vorhanden und somit recht klein ist."
   ]
  },
  {
   "cell_type": "code",
   "execution_count": 12,
   "id": "489f9e7f-c27e-4dbb-9034-37e2fc4294ef",
   "metadata": {},
   "outputs": [
    {
     "data": {
      "text/plain": [
       "(24, 21, 3)"
      ]
     },
     "execution_count": 12,
     "metadata": {},
     "output_type": "execute_result"
    }
   ],
   "source": [
    "im = cv2.imread(img_path+img_files[2])\n",
    "im = cv2.cvtColor(im,cv2.COLOR_BGR2RGB)\n",
    "im.shape"
   ]
  },
  {
   "cell_type": "code",
   "execution_count": 13,
   "id": "9671a3b0-d35c-4494-b155-deee021f03b3",
   "metadata": {},
   "outputs": [
    {
     "data": {
      "text/plain": [
       "<matplotlib.image.AxesImage at 0x7fb422a11cc0>"
      ]
     },
     "execution_count": 13,
     "metadata": {},
     "output_type": "execute_result"
    },
    {
     "data": {
      "image/png": "[encoded data removed]",
      "text/plain": [
       "<Figure size 640x480 with 1 Axes>"
      ]
     },
     "metadata": {},
     "output_type": "display_data"
    }
   ],
   "source": [
    "plt.imshow(im)"
   ]
  },
  {
   "cell_type": "markdown",
   "id": "f879550a-c5d0-48f7-a02b-d0820a160578",
   "metadata": {},
   "source": [
    "Da in der späteren Arbeit als Input für die CNN-Netze größere Bilddateien im Format 224x224 erforderlich sind wird im Folgenden beispielhaft das vorherige Bild auf die Größe 224x224 hochskaliert. Es ist erkennbar, dass es dadurch nicht zu einer Verschlechterung der Qualität des Bildes kommt."
   ]
  },
  {
   "cell_type": "code",
   "execution_count": 14,
   "id": "90b5a609-c285-4e83-be8c-ffc977982b96",
   "metadata": {},
   "outputs": [
    {
     "data": {
      "text/plain": [
       "(244, 244, 3)"
      ]
     },
     "execution_count": 14,
     "metadata": {},
     "output_type": "execute_result"
    }
   ],
   "source": [
    "im2 = cv2.resize(im, (244,244), interpolation = cv2.INTER_AREA)\n",
    "im2.shape"
   ]
  },
  {
   "cell_type": "code",
   "execution_count": 15,
   "id": "3e450cd3-62e8-48aa-94e5-a492d4e344ca",
   "metadata": {},
   "outputs": [
    {
     "data": {
      "text/plain": [
       "<matplotlib.image.AxesImage at 0x7fb42286f640>"
      ]
     },
     "execution_count": 15,
     "metadata": {},
     "output_type": "execute_result"
    },
    {
     "data": {
      "image/png": "[encoded data removed]",
      "text/plain": [
       "<Figure size 640x480 with 1 Axes>"
      ]
     },
     "metadata": {},
     "output_type": "display_data"
    }
   ],
   "source": [
    "plt.imshow(im2)"
   ]
  },
  {
   "cell_type": "markdown",
   "id": "ca9492c5-534c-49c0-8f94-415491d096ea",
   "metadata": {},
   "source": [
    "<a name=\"Datensplit\"></a>\n",
    "## 4. Erstellung Trainings- und Testdatensätze"
   ]
  },
  {
   "cell_type": "markdown",
   "id": "3f231354-0ab8-4654-a213-38278479a5ea",
   "metadata": {},
   "source": [
    "Bisher liegen alle vorhandenen Daten in einem DataFrame vor. Für ein effizientes Training und anschließende Evaluierung ist es allerdings erforderlich, die Daten in unterschiedliche Datensätze aufzuteilen: in ein Test- sowie ein Trainings-Datenset.<br>\n",
    "Scikit-Learn bietet ein Modul, welches ein einfaches Splitten der Daten ermöglicht. Es werden 20% der Daten für das Trainings-Set festgelegt, was einem weitläufigen Standard im Bereich des maschinellen Lernens entspricht.<br>\n",
    "Nach dem Splitten ist es ratsam zu prüfen, ob beide Datensätze korrekt erstellt wurden. Dazu bietet sich die Ausgabe der Shape an. "
   ]
  },
  {
   "cell_type": "code",
   "execution_count": 16,
   "id": "9098fda9-58fb-4ae1-88ff-c1be1f3b33e9",
   "metadata": {},
   "outputs": [],
   "source": [
    "train_set, test_set = train_test_split(df, test_size=0.2, random_state = 42)"
   ]
  },
  {
   "cell_type": "code",
   "execution_count": 17,
   "id": "f16947da-b986-4e70-b845-749f3ce8a274",
   "metadata": {},
   "outputs": [
    {
     "data": {
      "text/plain": [
       "(3257, 11)"
      ]
     },
     "execution_count": 17,
     "metadata": {},
     "output_type": "execute_result"
    }
   ],
   "source": [
    "train_set.shape"
   ]
  },
  {
   "cell_type": "code",
   "execution_count": 18,
   "id": "77ec9f66-c62a-47da-a3f0-7b190239dd0b",
   "metadata": {},
   "outputs": [
    {
     "data": {
      "text/plain": [
       "(815, 11)"
      ]
     },
     "execution_count": 18,
     "metadata": {},
     "output_type": "execute_result"
    }
   ],
   "source": [
    "test_set.shape"
   ]
  },
  {
   "cell_type": "markdown",
   "id": "80dd54a3-fa46-4957-9ff1-ea95c0ce3e1c",
   "metadata": {},
   "source": [
    "<a name=\"ImGen_Org\"></a>\n",
    "## 5. Definition Image Generator für unbalancierte Daten"
   ]
  },
  {
   "cell_type": "markdown",
   "id": "026a8a21-7178-47a4-9a54-0c607735dd34",
   "metadata": {},
   "source": [
    "Nachdem nun der Split in Test- und Trainingsdatenset vorgenommen wurde werden anschließend Generatoren für die Bilddateien erstellt. Diese dienen dazu, die zur Verfügung stehende Datenmenge zu erweitern, indem die Inputbilder entsprechend der gewünschten Vorgaben oder nach Zufallsprinzip transfomiert werden. Dadurch stehen während des Trainings mehr Merkmale zur Verfügung und das Netz erhält die Möglichkeit, eine bessere Generalisierung zu erlernen.<br>\n",
    "Für diesen Prozess wird der `ImageDataGenerator` aus Keras importiert. Anschließend wird definiert, dass 25% der Daten als Validierungsdatensatz verwendet und die RGB-Werte durch die Division durch 255 normalisiert werden."
   ]
  },
  {
   "cell_type": "code",
   "execution_count": 19,
   "id": "ab2cc029-eabb-4d17-a2b0-13173b8821e8",
   "metadata": {},
   "outputs": [],
   "source": [
    "from tensorflow.keras.preprocessing.image import ImageDataGenerator"
   ]
  },
  {
   "cell_type": "code",
   "execution_count": 20,
   "id": "3b6789b7-4e05-48fb-ba16-420c3d3e4a3e",
   "metadata": {},
   "outputs": [],
   "source": [
    "datagen = ImageDataGenerator(rescale = 1./255., validation_split=0.25)"
   ]
  },
  {
   "cell_type": "markdown",
   "id": "850bfa43-87eb-4752-b6d1-57be09d15687",
   "metadata": {},
   "source": [
    "Im nächsten Schritt können die Generatoren für die Trainings- sowie die Validierungsdaten erzeugt werden. Der Import der Daten erfolgt direkt über das DataFrame und aus dem Speicherort der Bilddateien. Da im weiteren Verlauf eine Input-Shape von 224x224 für die CNN-Netze notwendig sind, wird zudem eine entsprechende Zielgröße vorgegeben."
   ]
  },
  {
   "cell_type": "code",
   "execution_count": 21,
   "id": "75782901-a3fe-46f2-b8a7-f9c07246133c",
   "metadata": {},
   "outputs": [
    {
     "name": "stdout",
     "output_type": "stream",
     "text": [
      "Found 2443 validated image filenames belonging to 3 classes.\n"
     ]
    }
   ],
   "source": [
    "train_gen= datagen.flow_from_dataframe(\n",
    "    dataframe=train_set, \n",
    "    directory='./source/img2',\n",
    "    x_col='image_bb',\n",
    "    y_col='label',\n",
    "    subset='training',\n",
    "    batch_size=32,\n",
    "    seed=42,\n",
    "    shuffle=True,\n",
    "    class_mode= 'categorical',\n",
    "    target_size = (224,224)\n",
    ")"
   ]
  },
  {
   "cell_type": "code",
   "execution_count": 22,
   "id": "812b6621-a452-4529-ae05-5e74017e71ae",
   "metadata": {},
   "outputs": [
    {
     "name": "stdout",
     "output_type": "stream",
     "text": [
      "Found 814 validated image filenames belonging to 3 classes.\n"
     ]
    }
   ],
   "source": [
    "valid_gen= datagen.flow_from_dataframe(\n",
    "    dataframe=train_set,\n",
    "    directory= './source/img2',\n",
    "    x_col='image_bb',\n",
    "    y_col='label',\n",
    "    subset='validation',\n",
    "    batch_size=32,\n",
    "    seed=42,\n",
    "    shuffle=True,\n",
    "    class_model= 'categorical',\n",
    "    target_size= (224,224)\n",
    ")"
   ]
  },
  {
   "cell_type": "markdown",
   "id": "a28e84e6-4d6d-4d2b-9c62-8b541a5c75ab",
   "metadata": {},
   "source": [
    "Die vorherigen Schritte werden nun mit den Testdaten wiederholt mit der Unterschied, dass hier natürlich kein Validierungsdatensatz notwendig ist."
   ]
  },
  {
   "cell_type": "code",
   "execution_count": 23,
   "id": "f325170d-18b6-4777-9fee-dd6d8ed2ebcd",
   "metadata": {},
   "outputs": [],
   "source": [
    "test_datagen = ImageDataGenerator(rescale = 1./255.)"
   ]
  },
  {
   "cell_type": "code",
   "execution_count": 24,
   "id": "aab0ba9a-9b79-42c1-95a6-e798e1efd56c",
   "metadata": {},
   "outputs": [
    {
     "name": "stdout",
     "output_type": "stream",
     "text": [
      "Found 815 validated image filenames belonging to 3 classes.\n"
     ]
    }
   ],
   "source": [
    "test_gen= test_datagen.flow_from_dataframe(\n",
    "    dataframe=test_set,\n",
    "    directory= './source/img2',\n",
    "    x_col='image_bb',\n",
    "    y_col='label',\n",
    "    batch_size=32,\n",
    "    seed=42,\n",
    "    shuffle=True,\n",
    "    class_model= 'categorical',\n",
    "    target_size= (224,224)  \n",
    ")"
   ]
  },
  {
   "cell_type": "markdown",
   "id": "d4d65837-326c-469a-9b96-d9cda5c2589d",
   "metadata": {},
   "source": [
    "<a name=\"OS-Daten\"></a>\n",
    "## 6. Generierung der Oversampling-Daten"
   ]
  },
  {
   "cell_type": "markdown",
   "id": "e0c65470-8c5b-499e-a28e-be9d4ad26743",
   "metadata": {},
   "source": [
    "Da die Daten in unbalancierter Form vorliegen und untersucht werden soll, inwiefern dies einen Einfluss auf die Lernqualität eines CNN-Netzes hat, wird nun eine Balance in den Daten künstlich generiert. Mögliche Techniken dazu sind bspw. das Undersampling oder auch das Oversampling. Während beim Undersampling alle Datensätze auf die Menge reduziert werden, die die unterrepräsentierste Klasse enthält, werden beim Oversampling im Gegensatz dazu die Daten der unterrepräsentierten Klassen auf die Menge, die die stärkste Klasse besitzt, hochskaliert. Dadurch stehen im Endeffekt insgesamt mehr Daten für das Training zur Verfügung bei einer ausgeglichenen Anzahl an Datensätzen je Klasse."
   ]
  },
  {
   "cell_type": "markdown",
   "id": "4b85369b-12b3-4e4c-8fa1-5a53d95c0432",
   "metadata": {},
   "source": [
    "<a name=\"Split-X-Y\"></a>\n",
    "### 6.1 Aufteilen in in X- und Y-Datensatz"
   ]
  },
  {
   "cell_type": "markdown",
   "id": "26b0b906-b09a-4db7-ae6c-175f7f9bb8c7",
   "metadata": {},
   "source": [
    "Bevor das Oversampling durchgeführt wird ist zunächst der Trainingsdatensatz in X- und Y-Datensätze zu trennen. Dies geschieht, da beim Oversampling Input und Output als Array übergeben werden müssen.<br>\n",
    "Hierzu werden zunächst die Daten in zwei Listen gesplittet und in das für AlexNet und VGG16 als Input relevante Format 224x224 transformiert."
   ]
  },
  {
   "cell_type": "code",
   "execution_count": 25,
   "id": "fe6aa526-e0f6-4f10-9bb7-e52b1d0c616c",
   "metadata": {},
   "outputs": [],
   "source": [
    "x_train = []\n",
    "y_train = []\n",
    "for i in train_set.index:\n",
    "    file = train_set['image_bb'][i]\n",
    "    path = 'source/img2/'+file\n",
    "    im = cv2.imread(path)\n",
    "    im = cv2.cvtColor(im,cv2.COLOR_BGR2RGB)\n",
    "    im = cv2.resize(im, (224, 224))\n",
    "    x_train.append(im)\n",
    "    label = train_set['label'][i]\n",
    "    y_train.append(label)"
   ]
  },
  {
   "cell_type": "markdown",
   "id": "7bc3f12d-22e6-419e-b5f5-fb48d8778e32",
   "metadata": {},
   "source": [
    "Anschließend erfolgt die Umwandlung in ein NumPy-Array."
   ]
  },
  {
   "cell_type": "code",
   "execution_count": 26,
   "id": "2354739e-7311-476e-90c1-60e5821917fc",
   "metadata": {},
   "outputs": [],
   "source": [
    "x_train = np.asarray(x_train)\n",
    "y_train = np.asarray(y_train)"
   ]
  },
  {
   "cell_type": "markdown",
   "id": "08986660-8a7a-49b4-838a-79b7fbbc4566",
   "metadata": {},
   "source": [
    "Da die Labels als String vorliegen muss zudem eine Umwandlung in Zahlenformat sowie anschließend eine Codierung in die einzelnen Kategorien mittels One-Hot-Encoding vorgenommen werden."
   ]
  },
  {
   "cell_type": "code",
   "execution_count": 27,
   "id": "eb5e6200-f149-47a6-834c-cb799581a55b",
   "metadata": {},
   "outputs": [],
   "source": [
    "y_train = np.unique(y_train, return_inverse = True)"
   ]
  },
  {
   "cell_type": "code",
   "execution_count": 28,
   "id": "23e9869a-b3ef-42be-9dca-75d764954ca5",
   "metadata": {},
   "outputs": [],
   "source": [
    "y_train = to_categorical(y_train[1],3)"
   ]
  },
  {
   "cell_type": "markdown",
   "id": "aa337bcd-d4dd-4312-8de2-1348cddb142d",
   "metadata": {},
   "source": [
    "<a name=\"Smote\"></a>\n",
    "### 6.2 Oversampling mittels SMOTE"
   ]
  },
  {
   "cell_type": "markdown",
   "id": "1ca6225e-aa13-40cc-837e-137896b29be4",
   "metadata": {},
   "source": [
    "Für das Oversampling wird auf die Bibliothek `Imblearn` zugegriffen und dort auf den `SMOTE`-Algorithmus."
   ]
  },
  {
   "cell_type": "code",
   "execution_count": 29,
   "id": "33c13f4a-4c87-4b5c-b142-016c653d1cbc",
   "metadata": {},
   "outputs": [],
   "source": [
    "from imblearn.over_sampling import SMOTE"
   ]
  },
  {
   "cell_type": "code",
   "execution_count": 30,
   "id": "cf4a5b9a-4516-471d-8db6-813210847913",
   "metadata": {},
   "outputs": [],
   "source": [
    "sm = SMOTE(random_state=42)"
   ]
  },
  {
   "cell_type": "markdown",
   "id": "2b6e2fcf-85e3-4136-aea8-bb8fd6c0a919",
   "metadata": {},
   "source": [
    "Als Input ist hierbei ein 2D-Array erforderlich. Da die Inputdaten als RGB-Werte vorliegen und somit mehr Dimensionen aufweisen, wird zunächst eine Transformation vorgenommen."
   ]
  },
  {
   "cell_type": "code",
   "execution_count": 31,
   "id": "9bb1e26c-5022-4642-94b5-fe8709fa84ec",
   "metadata": {},
   "outputs": [],
   "source": [
    "i, x, y, rgb = x_train.shape"
   ]
  },
  {
   "cell_type": "code",
   "execution_count": 32,
   "id": "9de3226c-a4d8-4321-87c2-3fb1fc054b75",
   "metadata": {},
   "outputs": [
    {
     "data": {
      "text/plain": [
       "(3257, 150528)"
      ]
     },
     "execution_count": 32,
     "metadata": {},
     "output_type": "execute_result"
    }
   ],
   "source": [
    "x_train2d = x_train.reshape(i, x*y*rgb)\n",
    "x_train2d.shape"
   ]
  },
  {
   "cell_type": "markdown",
   "id": "1c6e2f58-2e08-4609-8212-9d544621edd1",
   "metadata": {},
   "source": [
    "Nun kann das Oversampling mittels `SMOTE` durchgeführt werden. In der ausgegebenen Shape ist erkennbar, das nun insgesamt 7788 Datensätze vorhanden sind."
   ]
  },
  {
   "cell_type": "code",
   "execution_count": 33,
   "id": "86900b45-0046-4ec4-984f-cc0fd575c6b2",
   "metadata": {},
   "outputs": [
    {
     "data": {
      "text/plain": [
       "((7788, 150528), (7788, 3))"
      ]
     },
     "execution_count": 33,
     "metadata": {},
     "output_type": "execute_result"
    }
   ],
   "source": [
    "x_train_sm, y_train_sm = sm.fit_resample(x_train2d, y_train)\n",
    "x_train_sm.shape, y_train_sm.shape"
   ]
  },
  {
   "cell_type": "markdown",
   "id": "4202df1d-a271-431d-9634-16e2aa5dce22",
   "metadata": {},
   "source": [
    "Anschließend werden die Inputdaten mittels `Reshape` wieder in ihre urspüngliche Form transformiert."
   ]
  },
  {
   "cell_type": "code",
   "execution_count": 34,
   "id": "4abd90e2-b64c-4493-bc56-de40d61f2438",
   "metadata": {},
   "outputs": [
    {
     "data": {
      "text/plain": [
       "((7788, 224, 224, 3), (7788, 3))"
      ]
     },
     "execution_count": 34,
     "metadata": {},
     "output_type": "execute_result"
    }
   ],
   "source": [
    "x_train_sm = x_train_sm.reshape(-1,224,224,3)\n",
    "x_train_sm.shape, y_train_sm.shape"
   ]
  },
  {
   "cell_type": "markdown",
   "id": "54565995-7616-409d-838a-492a2a614998",
   "metadata": {},
   "source": [
    "<a name=\"ImGen_OS\"></a>\n",
    "## 7. Definition Image Generator für Oversampling-Daten"
   ]
  },
  {
   "cell_type": "markdown",
   "id": "f79000b7-41b2-46f1-a6e1-f9e1bb97ed96",
   "metadata": {},
   "source": [
    "Nach der Durchführung des Oversampling können nun die Bildgeneratoren für das spätere Training definiert werden. Dazu werden für die Trainingsdaten die SMOTE-Datensätze verwendet. Für die Validierung hingegen werden die unbalancierten Datensätze vor dem Oversampling genutzt. Dies hat den Hintergrund, das dadurch bereits während der Validierung dem Modell ermöglicht wird, seine erlernten Gewichte auf unbalancierte Daten anzupassen und zu verfeinern, denn auch in der Realität liegt in der Regel nicht immer eine balancierte Datenlage vor. Aus diesem Grund wird auch kein weiterer Generator für die Testdaten erstellt, da hierbei der zuvor erstellte Generator der unbalancierten Originaldaten verwendet werden kann. <br>\n",
    "Im Gegensatz zu den Generatoren für die Originaldaten wird hier direkt aus den Arrays geladen und nicht über das Dataframe."
   ]
  },
  {
   "cell_type": "code",
   "execution_count": 35,
   "id": "541c1e66-3911-4d1e-84ac-59ce910b30f3",
   "metadata": {},
   "outputs": [],
   "source": [
    "train_gen_os = datagen.flow(\n",
    "    x = x_train_sm,\n",
    "    y = y_train_sm,\n",
    "    batch_size= 32,\n",
    "    shuffle = True,\n",
    "    seed = 42,\n",
    "    subset = 'training'\n",
    ")"
   ]
  },
  {
   "cell_type": "code",
   "execution_count": 36,
   "id": "40ac39bb-0dad-4570-b03a-b538aab04ff7",
   "metadata": {},
   "outputs": [],
   "source": [
    "valid_gen_os = datagen.flow(\n",
    "    x = x_train,\n",
    "    y = y_train,\n",
    "    batch_size = 32,\n",
    "    shuffle = True,\n",
    "    seed = 42,\n",
    "    subset = 'validation'\n",
    ")"
   ]
  },
  {
   "cell_type": "markdown",
   "id": "71cafb77-d04a-4df1-8ef6-7ebd3ef8c332",
   "metadata": {},
   "source": [
    "<a name=\"AlexNet\"></a>\n",
    "## 8. AlexNet"
   ]
  },
  {
   "cell_type": "markdown",
   "id": "cfad9826-38f6-42c0-a351-d7d74757fe57",
   "metadata": {},
   "source": [
    "In diesem Kapitel erfolgt nun das Training der CNN-Modelle auf Basis der AlexNet-Architektur. Zunächst wird das Training auf die unbalancierten Originaldaten durchgeführt, bevor anschließend die Oversampling-Datensätze verwendet werden.<br>\n",
    "Ziel beim Training auf den unbalancierten Daten ist es ein Model zu konstruieren, dass mind. 95% Accuracy sowie max. 15% Loss bei der Evaluation erreicht. Je nach Ergebnis können dazu mehrere Durchläufe mit der Anpassung von Parametern notwendig sein."
   ]
  },
  {
   "cell_type": "markdown",
   "id": "5598a26b-2fa7-4279-969b-1dd0028b5d11",
   "metadata": {},
   "source": [
    "<a name=\"AlexNet_Org\"></a>\n",
    "### 8.1 Unbalancierte Daten"
   ]
  },
  {
   "cell_type": "markdown",
   "id": "266df044-d332-4c9f-aa3a-d932292399e7",
   "metadata": {},
   "source": [
    "Für das Training auf die unbalancierten Daten wird zunächst das Modell gemäß AlexNet-Architektur definiert. Da insgesamt drei Kategorien vorhanden sind, wird der letzte Layer, die Output-Schicht, auf eine Ausgabe von drei Neuronen gesetzt.<br>\n",
    "Da dies das erste Modell ist, was Training wird, erhält es die Bezeichnung `alex1`."
   ]
  },
  {
   "cell_type": "code",
   "execution_count": 37,
   "id": "ef303f16-cbf0-469c-b358-84da4dc3210d",
   "metadata": {},
   "outputs": [
    {
     "name": "stderr",
     "output_type": "stream",
     "text": [
      "2023-02-13 16:24:14.737592: I tensorflow/core/platform/cpu_feature_guard.cc:193] This TensorFlow binary is optimized with oneAPI Deep Neural Network Library (oneDNN) to use the following CPU instructions in performance-critical operations:  AVX2 FMA\n",
      "To enable them in other operations, rebuild TensorFlow with the appropriate compiler flags.\n",
      "2023-02-13 16:24:15.204112: I tensorflow/core/common_runtime/gpu/gpu_device.cc:1613] Created device /job:localhost/replica:0/task:0/device:GPU:0 with 78977 MB memory:  -> device: 0, name: NVIDIA A100-SXM4-80GB, pci bus id: 0000:01:00.0, compute capability: 8.0\n"
     ]
    }
   ],
   "source": [
    "alex1 = Sequential([\n",
    "    Conv2D(96, (11, 11), strides = (4, 4), activation = 'relu', input_shape = (224,224,3)),\n",
    "    MaxPooling2D(pool_size = (3, 3), strides = (2, 2)),\n",
    "    Conv2D(256, (5, 5), activation = 'relu', padding = 'same'),\n",
    "    MaxPooling2D(pool_size = (3, 3), strides=(2, 2)),\n",
    "    Conv2D(384, (3, 3), activation = 'relu', padding = 'same'),\n",
    "    Conv2D(384, (3, 3), activation = 'relu', padding = 'same'),\n",
    "    Conv2D(256, (3, 3), activation = 'relu', padding = 'same'),\n",
    "    MaxPooling2D(pool_size = (3, 3), strides = (2, 2)),\n",
    "    Flatten(),\n",
    "    Dense(4096, activation = 'relu'),\n",
    "    Dense(4096, activation = 'relu'),\n",
    "    Dense(3, activation = 'softmax')\n",
    "])"
   ]
  },
  {
   "cell_type": "markdown",
   "id": "bd12d7cf-2887-4b1c-81a3-a96aa1ff817d",
   "metadata": {},
   "source": [
    "Insgesamt besteht das Modell aus 12 Layern und kann daher als tiefes Netz bezeichnet werden."
   ]
  },
  {
   "cell_type": "code",
   "execution_count": 38,
   "id": "0e87b9a6-ebb5-4c6b-8675-f81999768eaf",
   "metadata": {},
   "outputs": [
    {
     "data": {
      "text/plain": [
       "12"
      ]
     },
     "execution_count": 38,
     "metadata": {},
     "output_type": "execute_result"
    }
   ],
   "source": [
    "len(alex1.layers)"
   ]
  },
  {
   "cell_type": "markdown",
   "id": "4030a6ea-0a6d-4b8a-8449-2d58275bb8ff",
   "metadata": {},
   "source": [
    "Anschließend erfolgt die Kompilierung des Modells. Die Lernrate wird zum Start auf den Standardwert von 0,001 für den Adam-Optimierer gesetzt."
   ]
  },
  {
   "cell_type": "code",
   "execution_count": 39,
   "id": "d78fa656-3af6-4a99-9001-75af36ba21a6",
   "metadata": {},
   "outputs": [],
   "source": [
    "alex1.compile(loss = 'categorical_crossentropy',\n",
    "              optimizer = keras.optimizers.Adam(learning_rate = 0.001),\n",
    "              metrics = ['accuracy',keras.metrics.Recall()])"
   ]
  },
  {
   "cell_type": "markdown",
   "id": "3f806b1b-cdd4-4450-a0e4-8cce44c2b46a",
   "metadata": {},
   "source": [
    "Ergänzend wird ein Early-Stopping definiert, damit das Netz das Training abbricht, wenn es stagniert. Das Early-Stopping ist hierbei so eingestellt, dass der Loss-Wert des Validierungsdatensatzes beobachtet wird und das Training abgebrochen wird, wenn der Wert fünf Epochen lang nicht mehr sinkt."
   ]
  },
  {
   "cell_type": "code",
   "execution_count": 40,
   "id": "55b9372e-58ce-48de-9c4d-446291fac026",
   "metadata": {},
   "outputs": [],
   "source": [
    "alex_cb = [keras.callbacks.EarlyStopping(monitor = 'val_loss', mode = 'min', verbose = 1, patience = 5)]"
   ]
  },
  {
   "cell_type": "markdown",
   "id": "a43ae471-c555-4ed3-971e-e4b59b91bc39",
   "metadata": {},
   "source": [
    "Nun erfolgt das Training des ersten Modells. Als Eingangsdaten für das Training dient der Trainingsgenerator, zusätzlich wird der Validierungsgenerator zur Netzvalidierung übergeben und die Epochenanzahl auf 20 gesetzt."
   ]
  },
  {
   "cell_type": "code",
   "execution_count": 41,
   "id": "6771c487-95a8-4073-a400-26a1b36fbb46",
   "metadata": {},
   "outputs": [
    {
     "name": "stdout",
     "output_type": "stream",
     "text": [
      "Epoch 1/20\n"
     ]
    },
    {
     "name": "stderr",
     "output_type": "stream",
     "text": [
      "2023-02-13 16:24:28.195971: I tensorflow/compiler/xla/stream_executor/cuda/cuda_dnn.cc:428] Loaded cuDNN version 8500\n",
      "2023-02-13 16:24:28.765773: I tensorflow/compiler/xla/stream_executor/cuda/cuda_blas.cc:630] TensorFloat-32 will be used for the matrix multiplication. This will only be logged once.\n",
      "2023-02-13 16:24:28.796813: I tensorflow/compiler/xla/service/service.cc:173] XLA service 0x7fad58028100 initialized for platform CUDA (this does not guarantee that XLA will be used). Devices:\n",
      "2023-02-13 16:24:28.796883: I tensorflow/compiler/xla/service/service.cc:181]   StreamExecutor device (0): NVIDIA A100-SXM4-80GB, Compute Capability 8.0\n",
      "2023-02-13 16:24:28.805571: I tensorflow/compiler/mlir/tensorflow/utils/dump_mlir_util.cc:268] disabling MLIR crash reproducer, set env var `MLIR_CRASH_REPRODUCER_DIRECTORY` to enable.\n",
      "2023-02-13 16:24:28.936269: I tensorflow/compiler/jit/xla_compilation_cache.cc:477] Compiled cluster using XLA!  This line is logged at most once for the lifetime of the process.\n"
     ]
    },
    {
     "name": "stdout",
     "output_type": "stream",
     "text": [
      "77/77 [==============================] - 10s 78ms/step - loss: 0.6505 - accuracy: 0.7773 - recall: 0.7278 - val_loss: 0.2958 - val_accuracy: 0.9017 - val_recall: 0.8931\n",
      "Epoch 2/20\n",
      "77/77 [==============================] - 6s 73ms/step - loss: 0.3165 - accuracy: 0.8903 - recall: 0.8682 - val_loss: 0.2228 - val_accuracy: 0.9337 - val_recall: 0.9238\n",
      "Epoch 3/20\n",
      "77/77 [==============================] - 6s 73ms/step - loss: 0.2767 - accuracy: 0.9009 - recall: 0.8870 - val_loss: 0.2425 - val_accuracy: 0.9238 - val_recall: 0.9189\n",
      "Epoch 4/20\n",
      "77/77 [==============================] - 6s 73ms/step - loss: 0.2157 - accuracy: 0.9243 - recall: 0.9181 - val_loss: 0.2555 - val_accuracy: 0.9017 - val_recall: 0.8931\n",
      "Epoch 5/20\n",
      "77/77 [==============================] - 6s 71ms/step - loss: 0.2146 - accuracy: 0.9259 - recall: 0.9181 - val_loss: 0.2862 - val_accuracy: 0.9017 - val_recall: 0.8993\n",
      "Epoch 6/20\n",
      "77/77 [==============================] - 6s 71ms/step - loss: 0.1963 - accuracy: 0.9329 - recall: 0.9284 - val_loss: 0.2012 - val_accuracy: 0.9312 - val_recall: 0.9287\n",
      "Epoch 7/20\n",
      "77/77 [==============================] - 6s 73ms/step - loss: 0.1906 - accuracy: 0.9386 - recall: 0.9312 - val_loss: 0.2038 - val_accuracy: 0.9349 - val_recall: 0.9287\n",
      "Epoch 8/20\n",
      "77/77 [==============================] - 6s 72ms/step - loss: 0.2070 - accuracy: 0.9247 - recall: 0.9181 - val_loss: 0.2092 - val_accuracy: 0.9349 - val_recall: 0.9251\n",
      "Epoch 9/20\n",
      "77/77 [==============================] - 6s 73ms/step - loss: 0.1817 - accuracy: 0.9423 - recall: 0.9366 - val_loss: 0.2153 - val_accuracy: 0.9263 - val_recall: 0.9201\n",
      "Epoch 10/20\n",
      "77/77 [==============================] - 5s 71ms/step - loss: 0.1762 - accuracy: 0.9435 - recall: 0.9406 - val_loss: 0.2546 - val_accuracy: 0.9189 - val_recall: 0.9115\n",
      "Epoch 11/20\n",
      "77/77 [==============================] - 6s 74ms/step - loss: 0.1755 - accuracy: 0.9390 - recall: 0.9366 - val_loss: 0.2502 - val_accuracy: 0.9287 - val_recall: 0.9287\n",
      "Epoch 11: early stopping\n"
     ]
    }
   ],
   "source": [
    "alex1_hist = alex1.fit(train_gen, validation_data = valid_gen, epochs = 20, callbacks = alex_cb)"
   ]
  },
  {
   "cell_type": "markdown",
   "id": "03efc305-ec6a-4cb9-b63a-40b3c6f24f77",
   "metadata": {},
   "source": [
    "Das Training wird durch Early-Stopping nach 11 Epochen gestoppt, da der Val-Loss-Wert in den letzten 5 Epochen nicht mehr gesunken ist.<br>\n",
    "Das Resultat des Trainings wird anschließend in ein Dataframe geschrieben."
   ]
  },
  {
   "cell_type": "code",
   "execution_count": 42,
   "id": "08cdeaec-cd4f-4b04-b801-80b07df8f131",
   "metadata": {},
   "outputs": [],
   "source": [
    "alex1_res = pd.DataFrame(alex1_hist.history)"
   ]
  },
  {
   "cell_type": "markdown",
   "id": "358c736e-f1e3-406b-bab6-1d1d053fdbe5",
   "metadata": {},
   "source": [
    "Evaluiert man das trainierte Modell mit den Testdaten, ergibt sich ein Loss-Wert von 17,9% sowie eine Accuracy von 94,4%. Die gesetzten Zielwerte werden also knapp verfehlt, weshalb ein weiteres Modell auf den Daten trainiert wird."
   ]
  },
  {
   "cell_type": "code",
   "execution_count": 43,
   "id": "f13acb95-e2e9-48ec-a1f4-7f4fc007ad3e",
   "metadata": {},
   "outputs": [
    {
     "name": "stdout",
     "output_type": "stream",
     "text": [
      "77/77 [==============================] - 5s 59ms/step - loss: 0.1788 - accuracy: 0.9443 - recall: 0.9431\n"
     ]
    },
    {
     "data": {
      "text/plain": [
       "[0.178788423538208, 0.9443307518959045, 0.9431027173995972]"
      ]
     },
     "execution_count": 43,
     "metadata": {},
     "output_type": "execute_result"
    }
   ],
   "source": [
    "alex1_ev = alex1.evaluate(train_gen)\n",
    "alex1_ev"
   ]
  },
  {
   "cell_type": "markdown",
   "id": "8d8acd7a-8e3a-4e46-ace5-d3bba8fd80a6",
   "metadata": {},
   "source": [
    "Wie beim ersten Modell wird nun das Netz `alex2` definiert."
   ]
  },
  {
   "cell_type": "code",
   "execution_count": 44,
   "id": "60646a54-5c74-4b0d-935b-d8008b78e2d7",
   "metadata": {},
   "outputs": [],
   "source": [
    "alex2 = Sequential([\n",
    "    Conv2D(96, (11, 11), strides = (4, 4), activation = 'relu', input_shape = (224,224,3)),\n",
    "    MaxPooling2D(pool_size = (3, 3), strides = (2, 2)),\n",
    "    Conv2D(256, (5, 5), activation = 'relu', padding = 'same'),\n",
    "    MaxPooling2D(pool_size = (3, 3), strides=(2, 2)),\n",
    "    Conv2D(384, (3, 3), activation = 'relu', padding = 'same'),\n",
    "    Conv2D(384, (3, 3), activation = 'relu', padding = 'same'),\n",
    "    Conv2D(256, (3, 3), activation = 'relu', padding = 'same'),\n",
    "    MaxPooling2D(pool_size = (3, 3), strides = (2, 2)),\n",
    "    Flatten(),\n",
    "    Dense(4096, activation = 'relu'),\n",
    "    Dense(4096, activation = 'relu'),\n",
    "    Dense(3, activation = 'softmax')\n",
    "])"
   ]
  },
  {
   "cell_type": "markdown",
   "id": "bda384ec-9fe7-4eac-9755-a2e562ad9acb",
   "metadata": {},
   "source": [
    "Da die Messwerte nah an den Zielwerten lagen, wird nun die Lernrate geringfügig gesenkt: von 0,001 auf 0,0008."
   ]
  },
  {
   "cell_type": "code",
   "execution_count": 46,
   "id": "a1b518f6-6c9b-4262-bae8-baa113099123",
   "metadata": {},
   "outputs": [],
   "source": [
    "alex2.compile(loss = 'categorical_crossentropy',\n",
    "              optimizer = keras.optimizers.Adam(learning_rate = 0.0008),\n",
    "              metrics = ['accuracy',keras.metrics.Recall()])"
   ]
  },
  {
   "cell_type": "markdown",
   "id": "58106171-62f6-4664-b7fc-0863409f41ea",
   "metadata": {},
   "source": [
    "Nach dem Komplilieren mit neuer Lernrate wird erneut das Training gestartet."
   ]
  },
  {
   "cell_type": "code",
   "execution_count": 47,
   "id": "c5af3c87-48aa-4240-b4c2-3810e996f5cf",
   "metadata": {},
   "outputs": [
    {
     "name": "stdout",
     "output_type": "stream",
     "text": [
      "Epoch 1/20\n",
      "77/77 [==============================] - 8s 75ms/step - loss: 0.7921 - accuracy: 0.7974 - recall_2: 0.7208 - val_loss: 0.4553 - val_accuracy: 0.7961 - val_recall_2: 0.7961\n",
      "Epoch 2/20\n",
      "77/77 [==============================] - 6s 74ms/step - loss: 0.3354 - accuracy: 0.8743 - recall_2: 0.8588 - val_loss: 0.3453 - val_accuracy: 0.8845 - val_recall_2: 0.8759\n",
      "Epoch 3/20\n",
      "77/77 [==============================] - 6s 72ms/step - loss: 0.2428 - accuracy: 0.9177 - recall_2: 0.9104 - val_loss: 0.2828 - val_accuracy: 0.9029 - val_recall_2: 0.8956\n",
      "Epoch 4/20\n",
      "77/77 [==============================] - 6s 73ms/step - loss: 0.2251 - accuracy: 0.9210 - recall_2: 0.9140 - val_loss: 0.3367 - val_accuracy: 0.8636 - val_recall_2: 0.8563\n",
      "Epoch 5/20\n",
      "77/77 [==============================] - 6s 75ms/step - loss: 0.2439 - accuracy: 0.9116 - recall_2: 0.9054 - val_loss: 0.2460 - val_accuracy: 0.9312 - val_recall_2: 0.9189\n",
      "Epoch 6/20\n",
      "77/77 [==============================] - 5s 70ms/step - loss: 0.2860 - accuracy: 0.9059 - recall_2: 0.8842 - val_loss: 0.2587 - val_accuracy: 0.9263 - val_recall_2: 0.9238\n",
      "Epoch 7/20\n",
      "77/77 [==============================] - 5s 69ms/step - loss: 0.2130 - accuracy: 0.9292 - recall_2: 0.9243 - val_loss: 0.2213 - val_accuracy: 0.9324 - val_recall_2: 0.9287\n",
      "Epoch 8/20\n",
      "77/77 [==============================] - 6s 71ms/step - loss: 0.2057 - accuracy: 0.9267 - recall_2: 0.9218 - val_loss: 0.3462 - val_accuracy: 0.8808 - val_recall_2: 0.8771\n",
      "Epoch 9/20\n",
      "77/77 [==============================] - 6s 72ms/step - loss: 0.1965 - accuracy: 0.9378 - recall_2: 0.9333 - val_loss: 0.2256 - val_accuracy: 0.9263 - val_recall_2: 0.9201\n",
      "Epoch 10/20\n",
      "77/77 [==============================] - 6s 74ms/step - loss: 0.1753 - accuracy: 0.9456 - recall_2: 0.9415 - val_loss: 0.2142 - val_accuracy: 0.9287 - val_recall_2: 0.9214\n",
      "Epoch 11/20\n",
      "77/77 [==============================] - 6s 75ms/step - loss: 0.1780 - accuracy: 0.9390 - recall_2: 0.9366 - val_loss: 0.2165 - val_accuracy: 0.9263 - val_recall_2: 0.9214\n",
      "Epoch 12/20\n",
      "77/77 [==============================] - 6s 74ms/step - loss: 0.1591 - accuracy: 0.9468 - recall_2: 0.9439 - val_loss: 0.2076 - val_accuracy: 0.9275 - val_recall_2: 0.9251\n",
      "Epoch 13/20\n",
      "77/77 [==============================] - 6s 75ms/step - loss: 0.1602 - accuracy: 0.9488 - recall_2: 0.9468 - val_loss: 0.2143 - val_accuracy: 0.9263 - val_recall_2: 0.9251\n",
      "Epoch 14/20\n",
      "77/77 [==============================] - 6s 76ms/step - loss: 0.1520 - accuracy: 0.9472 - recall_2: 0.9460 - val_loss: 0.2552 - val_accuracy: 0.9214 - val_recall_2: 0.9189\n",
      "Epoch 15/20\n",
      "77/77 [==============================] - 6s 74ms/step - loss: 0.1688 - accuracy: 0.9447 - recall_2: 0.9427 - val_loss: 0.2187 - val_accuracy: 0.9337 - val_recall_2: 0.9324\n",
      "Epoch 16/20\n",
      "77/77 [==============================] - 6s 76ms/step - loss: 0.1326 - accuracy: 0.9533 - recall_2: 0.9513 - val_loss: 0.2156 - val_accuracy: 0.9312 - val_recall_2: 0.9312\n",
      "Epoch 17/20\n",
      "77/77 [==============================] - 6s 74ms/step - loss: 0.1294 - accuracy: 0.9546 - recall_2: 0.9525 - val_loss: 0.2012 - val_accuracy: 0.9410 - val_recall_2: 0.9361\n",
      "Epoch 18/20\n",
      "77/77 [==============================] - 6s 75ms/step - loss: 0.1364 - accuracy: 0.9533 - recall_2: 0.9513 - val_loss: 0.1989 - val_accuracy: 0.9287 - val_recall_2: 0.9287\n",
      "Epoch 19/20\n",
      "77/77 [==============================] - 6s 75ms/step - loss: 0.1501 - accuracy: 0.9472 - recall_2: 0.9447 - val_loss: 0.2263 - val_accuracy: 0.9300 - val_recall_2: 0.9263\n",
      "Epoch 20/20\n",
      "77/77 [==============================] - 6s 74ms/step - loss: 0.1260 - accuracy: 0.9582 - recall_2: 0.9546 - val_loss: 0.2483 - val_accuracy: 0.9287 - val_recall_2: 0.9251\n"
     ]
    }
   ],
   "source": [
    "alex2_hist = alex2.fit(train_gen, validation_data = valid_gen, epochs = 20, callbacks = alex_cb)"
   ]
  },
  {
   "cell_type": "code",
   "execution_count": 48,
   "id": "2708597a-1ffd-427b-9da5-00385822a3d2",
   "metadata": {},
   "outputs": [],
   "source": [
    "alex2_res = pd.DataFrame(alex2_hist.history)"
   ]
  },
  {
   "cell_type": "markdown",
   "id": "48e34824-2e0d-404f-8953-44be848a72f4",
   "metadata": {},
   "source": [
    "Die Reduzierung der Lernrate hat dazu geführt, dass der Loss-Wert von 17,9% auf 11,2% gesunken ist. Zudem konnte der Accuracy-Wert von 94,4% auf 95,9% erhöht werden. Die gesetzten Grenzwerte werden nun also erreicht."
   ]
  },
  {
   "cell_type": "code",
   "execution_count": 49,
   "id": "d760eb97-c097-41c7-8b82-0d93e7a516d0",
   "metadata": {},
   "outputs": [
    {
     "name": "stdout",
     "output_type": "stream",
     "text": [
      "77/77 [==============================] - 4s 55ms/step - loss: 0.1123 - accuracy: 0.9595 - recall_2: 0.9595\n"
     ]
    },
    {
     "data": {
      "text/plain": [
       "[0.11232909560203552, 0.9594760537147522, 0.9594760537147522]"
      ]
     },
     "execution_count": 49,
     "metadata": {},
     "output_type": "execute_result"
    }
   ],
   "source": [
    "alex2_ev = alex2.evaluate(train_gen)\n",
    "alex2_ev"
   ]
  },
  {
   "cell_type": "markdown",
   "id": "796d49e6-d6b9-415d-bb26-67bd5269a716",
   "metadata": {},
   "source": [
    "<a name=\"AlexNet_OS\"></a>\n",
    "### 8.2 Mittels Oversampling balancierte Daten"
   ]
  },
  {
   "cell_type": "markdown",
   "id": "e3f85cb4-cd73-42d6-98c2-8eabad7bc528",
   "metadata": {},
   "source": [
    "Nachdem das Training auf den unbalancierten Daten mittels AlexNet-Architektur durchgeführt wurde, wird ein weiteres Netz `alex3` für das Training auf die oversampled Daten definiert."
   ]
  },
  {
   "cell_type": "code",
   "execution_count": 86,
   "id": "b46b9631-a8ac-4319-800b-fca1be2c1fee",
   "metadata": {},
   "outputs": [],
   "source": [
    "alex3 = Sequential([\n",
    "    Conv2D(96, (11, 11), strides = (4, 4), activation = 'relu', input_shape = (224,224,3)),\n",
    "    MaxPooling2D(pool_size = (3, 3), strides = (2, 2)),\n",
    "    Conv2D(256, (5, 5), activation = 'relu', padding = 'same'),\n",
    "    MaxPooling2D(pool_size = (3, 3), strides=(2, 2)),\n",
    "    Conv2D(384, (3, 3), activation = 'relu', padding = 'same'),\n",
    "    Conv2D(384, (3, 3), activation = 'relu', padding = 'same'),\n",
    "    Conv2D(256, (3, 3), activation = 'relu', padding = 'same'),\n",
    "    MaxPooling2D(pool_size = (3, 3), strides = (2, 2)),\n",
    "    Flatten(),\n",
    "    Dense(4096, activation = 'relu'),\n",
    "    Dense(4096, activation = 'relu'),\n",
    "    Dense(3, activation = 'softmax')\n",
    "])"
   ]
  },
  {
   "cell_type": "markdown",
   "id": "494d98e3-3845-4ae4-bce8-ab8caae3101d",
   "metadata": {},
   "source": [
    "Wie beim ersten Modell auf die unbalancierten Daten wird zur besseren Vergleichbarkeit auch hier mit der Standard-Lernrate von 0,001 gestartet."
   ]
  },
  {
   "cell_type": "code",
   "execution_count": 87,
   "id": "0973371e-cf92-4814-896d-bbca1abd7ee1",
   "metadata": {},
   "outputs": [],
   "source": [
    "alex3.compile(loss = 'categorical_crossentropy',\n",
    "              optimizer = keras.optimizers.Adam(learning_rate = 0.001),\n",
    "              metrics = ['accuracy',keras.metrics.Recall()])"
   ]
  },
  {
   "cell_type": "markdown",
   "id": "60bd45cb-9a9e-494e-a7eb-10001c66d64b",
   "metadata": {},
   "source": [
    "Als Trainingsdaten dienen nun die Daten, die mittels des Oversampling-Generators erzeugt wurden. Für die Validierung werden die unbalancierten Daten verwendet, damit das Netz die Hyperparameter verfeinern kann, da auch in der Realität nicht von einer balancierten Datenlage ausgegangen werden kann."
   ]
  },
  {
   "cell_type": "code",
   "execution_count": 88,
   "id": "ad03ccd2-fcdb-4c92-964d-cc95b7b905d4",
   "metadata": {},
   "outputs": [
    {
     "name": "stdout",
     "output_type": "stream",
     "text": [
      "Epoch 1/20\n",
      "183/183 [==============================] - 4s 13ms/step - loss: 1.2060 - accuracy: 0.4345 - recall_11: 0.1108 - val_loss: 1.4607 - val_accuracy: 0.0356 - val_recall_11: 0.0000e+00\n",
      "Epoch 2/20\n",
      "183/183 [==============================] - 2s 13ms/step - loss: 0.9601 - accuracy: 0.4612 - recall_11: 0.1808 - val_loss: 1.2045 - val_accuracy: 0.1683 - val_recall_11: 0.0000e+00\n",
      "Epoch 3/20\n",
      "183/183 [==============================] - 3s 14ms/step - loss: 0.8599 - accuracy: 0.5211 - recall_11: 0.3119 - val_loss: 1.1593 - val_accuracy: 0.5197 - val_recall_11: 0.0160\n",
      "Epoch 4/20\n",
      "183/183 [==============================] - 3s 13ms/step - loss: 0.6974 - accuracy: 0.6775 - recall_11: 0.5783 - val_loss: 0.5612 - val_accuracy: 0.8059 - val_recall_11: 0.8010\n",
      "Epoch 5/20\n",
      "183/183 [==============================] - 3s 15ms/step - loss: 0.4681 - accuracy: 0.8118 - recall_11: 0.7987 - val_loss: 0.2783 - val_accuracy: 0.9079 - val_recall_11: 0.9017\n",
      "Epoch 6/20\n",
      "183/183 [==============================] - 3s 14ms/step - loss: 0.3866 - accuracy: 0.8449 - recall_11: 0.8377 - val_loss: 0.2465 - val_accuracy: 0.9226 - val_recall_11: 0.9177\n",
      "Epoch 7/20\n",
      "183/183 [==============================] - 2s 13ms/step - loss: 0.3896 - accuracy: 0.8456 - recall_11: 0.8382 - val_loss: 0.2753 - val_accuracy: 0.9165 - val_recall_11: 0.9091\n",
      "Epoch 8/20\n",
      "183/183 [==============================] - 2s 13ms/step - loss: 0.3291 - accuracy: 0.8772 - recall_11: 0.8702 - val_loss: 0.2676 - val_accuracy: 0.9177 - val_recall_11: 0.9115\n",
      "Epoch 9/20\n",
      "183/183 [==============================] - 3s 14ms/step - loss: 0.2638 - accuracy: 0.8925 - recall_11: 0.8891 - val_loss: 0.4374 - val_accuracy: 0.8354 - val_recall_11: 0.8305\n",
      "Epoch 10/20\n",
      "183/183 [==============================] - 2s 13ms/step - loss: 0.2152 - accuracy: 0.9207 - recall_11: 0.9183 - val_loss: 0.2153 - val_accuracy: 0.9324 - val_recall_11: 0.9287\n",
      "Epoch 11/20\n",
      "183/183 [==============================] - 2s 13ms/step - loss: 0.1976 - accuracy: 0.9286 - recall_11: 0.9266 - val_loss: 0.4412 - val_accuracy: 0.8563 - val_recall_11: 0.8563\n",
      "Epoch 12/20\n",
      "183/183 [==============================] - 3s 18ms/step - loss: 0.1645 - accuracy: 0.9408 - recall_11: 0.9397 - val_loss: 0.2181 - val_accuracy: 0.9398 - val_recall_11: 0.9386\n",
      "Epoch 13/20\n",
      "183/183 [==============================] - 2s 13ms/step - loss: 0.1465 - accuracy: 0.9462 - recall_11: 0.9459 - val_loss: 0.2811 - val_accuracy: 0.9128 - val_recall_11: 0.9115\n",
      "Epoch 14/20\n",
      "183/183 [==============================] - 3s 17ms/step - loss: 0.1154 - accuracy: 0.9586 - recall_11: 0.9581 - val_loss: 0.2211 - val_accuracy: 0.9447 - val_recall_11: 0.9447\n",
      "Epoch 15/20\n",
      "183/183 [==============================] - 2s 13ms/step - loss: 0.0909 - accuracy: 0.9706 - recall_11: 0.9699 - val_loss: 0.2176 - val_accuracy: 0.9459 - val_recall_11: 0.9459\n",
      "Epoch 15: early stopping\n"
     ]
    }
   ],
   "source": [
    "alex3_hist = alex3.fit(train_gen_os, validation_data = valid_gen_os, epochs = 20, callbacks = alex_cb)"
   ]
  },
  {
   "cell_type": "code",
   "execution_count": 89,
   "id": "b4829e2b-195d-4aa2-be27-f3ea549510e1",
   "metadata": {},
   "outputs": [],
   "source": [
    "alex3_res = pd.DataFrame(alex3_hist.history)"
   ]
  },
  {
   "cell_type": "markdown",
   "id": "402d6396-b2a4-468e-85d7-9ef0ffcffe04",
   "metadata": {},
   "source": [
    "Das Training wird nach 15 Epochen mittels Early-Stopping abgebrochen. Die Evaluation auf die unbalancierten Testdaten ergibt einen Loss-Wert von 15,5% sowie eine Accuracy von 95,5%. Im Vergleich zum Training mit den unbalancierten Daten sind hier also leicht bessere Ergebnisse erzielt worden."
   ]
  },
  {
   "cell_type": "code",
   "execution_count": 90,
   "id": "17d4b6f8-bfc8-4e90-b63e-cc443a24306d",
   "metadata": {},
   "outputs": [
    {
     "name": "stdout",
     "output_type": "stream",
     "text": [
      "77/77 [==============================] - 4s 49ms/step - loss: 0.1550 - accuracy: 0.9554 - recall_11: 0.9550\n"
     ]
    },
    {
     "data": {
      "text/plain": [
       "[0.15501590073108673, 0.9553827047348022, 0.9549733996391296]"
      ]
     },
     "execution_count": 90,
     "metadata": {},
     "output_type": "execute_result"
    }
   ],
   "source": [
    "alex3_ev = alex3.evaluate(train_gen)\n",
    "alex3_ev"
   ]
  },
  {
   "cell_type": "markdown",
   "id": "8c98498c-57ec-4f36-9e72-fab872f6f7cb",
   "metadata": {},
   "source": [
    "Um zu prüfen, wie eine Reduzierung der Lernrate sich im Falle der balancierten Daten verhält, wird das Netz `alex4` definiert."
   ]
  },
  {
   "cell_type": "code",
   "execution_count": 100,
   "id": "7166f784-22aa-4d04-93d4-e3e2ea26a329",
   "metadata": {},
   "outputs": [],
   "source": [
    "alex4 = Sequential([\n",
    "    Conv2D(96, (11, 11), strides = (4, 4), activation = 'relu', input_shape = (224,224,3)),\n",
    "    MaxPooling2D(pool_size = (3, 3), strides = (2, 2)),\n",
    "    Conv2D(256, (5, 5), activation = 'relu', padding = 'same'),\n",
    "    MaxPooling2D(pool_size = (3, 3), strides=(2, 2)),\n",
    "    Conv2D(384, (3, 3), activation = 'relu', padding = 'same'),\n",
    "    Conv2D(384, (3, 3), activation = 'relu', padding = 'same'),\n",
    "    Conv2D(256, (3, 3), activation = 'relu', padding = 'same'),\n",
    "    MaxPooling2D(pool_size = (3, 3), strides = (2, 2)),\n",
    "    Flatten(),\n",
    "    Dense(4096, activation = 'relu'),\n",
    "    Dense(4096, activation = 'relu'),\n",
    "    Dense(3, activation = 'softmax')\n",
    "])"
   ]
  },
  {
   "cell_type": "markdown",
   "id": "a6fd49c6-9e6e-4302-99f9-617719a58459",
   "metadata": {},
   "source": [
    "Die Lernrate wird hierbei wie bei `alex2` auf 0,0008 reduziert."
   ]
  },
  {
   "cell_type": "code",
   "execution_count": 101,
   "id": "8a50be66-be7d-446c-ab2c-ef0f0dd1a5ef",
   "metadata": {},
   "outputs": [],
   "source": [
    "alex4.compile(loss = 'categorical_crossentropy',\n",
    "              optimizer = keras.optimizers.Adam(learning_rate = 0.0008),\n",
    "              metrics = ['accuracy',keras.metrics.Recall()])"
   ]
  },
  {
   "cell_type": "code",
   "execution_count": 102,
   "id": "d3b6dd69-2d3d-423e-abea-af87e6a03de3",
   "metadata": {},
   "outputs": [
    {
     "name": "stdout",
     "output_type": "stream",
     "text": [
      "Epoch 1/20\n",
      "183/183 [==============================] - 5s 14ms/step - loss: 0.8304 - accuracy: 0.5978 - recall_14: 0.4266 - val_loss: 0.8135 - val_accuracy: 0.6437 - val_recall_14: 0.5823\n",
      "Epoch 2/20\n",
      "183/183 [==============================] - 2s 13ms/step - loss: 0.4921 - accuracy: 0.8035 - recall_14: 0.7898 - val_loss: 0.4486 - val_accuracy: 0.8194 - val_recall_14: 0.8157\n",
      "Epoch 3/20\n",
      "183/183 [==============================] - 3s 15ms/step - loss: 0.4431 - accuracy: 0.8225 - recall_14: 0.8108 - val_loss: 0.4913 - val_accuracy: 0.7912 - val_recall_14: 0.7740\n",
      "Epoch 4/20\n",
      "183/183 [==============================] - 2s 13ms/step - loss: 0.3936 - accuracy: 0.8497 - recall_14: 0.8413 - val_loss: 0.3831 - val_accuracy: 0.8563 - val_recall_14: 0.8501\n",
      "Epoch 5/20\n",
      "183/183 [==============================] - 3s 14ms/step - loss: 0.3404 - accuracy: 0.8695 - recall_14: 0.8629 - val_loss: 0.2965 - val_accuracy: 0.9066 - val_recall_14: 0.9042\n",
      "Epoch 6/20\n",
      "183/183 [==============================] - 2s 13ms/step - loss: 0.3107 - accuracy: 0.8843 - recall_14: 0.8793 - val_loss: 0.3588 - val_accuracy: 0.8575 - val_recall_14: 0.8514\n",
      "Epoch 7/20\n",
      "183/183 [==============================] - 2s 13ms/step - loss: 0.2884 - accuracy: 0.8966 - recall_14: 0.8923 - val_loss: 0.2140 - val_accuracy: 0.9300 - val_recall_14: 0.9287\n",
      "Epoch 8/20\n",
      "183/183 [==============================] - 3s 14ms/step - loss: 0.2575 - accuracy: 0.9084 - recall_14: 0.9062 - val_loss: 0.2010 - val_accuracy: 0.9251 - val_recall_14: 0.9226\n",
      "Epoch 9/20\n",
      "183/183 [==============================] - 2s 13ms/step - loss: 0.2236 - accuracy: 0.9149 - recall_14: 0.9130 - val_loss: 0.2016 - val_accuracy: 0.9337 - val_recall_14: 0.9312\n",
      "Epoch 10/20\n",
      "183/183 [==============================] - 3s 14ms/step - loss: 0.1599 - accuracy: 0.9413 - recall_14: 0.9397 - val_loss: 0.2336 - val_accuracy: 0.9312 - val_recall_14: 0.9312\n",
      "Epoch 11/20\n",
      "183/183 [==============================] - 2s 13ms/step - loss: 0.1434 - accuracy: 0.9497 - recall_14: 0.9480 - val_loss: 0.2355 - val_accuracy: 0.9337 - val_recall_14: 0.9337\n",
      "Epoch 12/20\n",
      "183/183 [==============================] - 3s 17ms/step - loss: 0.1297 - accuracy: 0.9543 - recall_14: 0.9527 - val_loss: 0.2354 - val_accuracy: 0.9275 - val_recall_14: 0.9275\n",
      "Epoch 13/20\n",
      "183/183 [==============================] - 3s 14ms/step - loss: 0.1115 - accuracy: 0.9608 - recall_14: 0.9601 - val_loss: 0.2142 - val_accuracy: 0.9459 - val_recall_14: 0.9423\n",
      "Epoch 13: early stopping\n"
     ]
    }
   ],
   "source": [
    "alex4_hist = alex4.fit(train_gen_os, validation_data = valid_gen_os, epochs = 20, callbacks = alex_cb)"
   ]
  },
  {
   "cell_type": "code",
   "execution_count": 103,
   "id": "cd0aa0d6-7c6a-4c96-a8f4-7e396dc485f5",
   "metadata": {},
   "outputs": [],
   "source": [
    "alex4_res = pd.DataFrame(alex4_hist.history)"
   ]
  },
  {
   "cell_type": "markdown",
   "id": "09e7f4ec-193b-4461-8237-f053bd15e7fe",
   "metadata": {},
   "source": [
    "Das Netz konnte seine Werte nochmals verbessern und erreicht jetzt einen Loss-Wert von 12,9% sowie eine Accuracy von 96,2%. Jedoch ist nun beim vergleichbaren Modell `alex2` auf die unbalancierten Daten ein nur geringfügig schlechterer Accuracy-Wert erzielt worden, wohingegen der Loss-Wert mit 11,2% deutlich besser ist."
   ]
  },
  {
   "cell_type": "code",
   "execution_count": 104,
   "id": "be3b0640-a85a-44fb-83fe-b952fbd0fafe",
   "metadata": {},
   "outputs": [
    {
     "name": "stdout",
     "output_type": "stream",
     "text": [
      "77/77 [==============================] - 4s 54ms/step - loss: 0.1286 - accuracy: 0.9623 - recall_14: 0.9611\n"
     ]
    },
    {
     "data": {
      "text/plain": [
       "[0.12862107157707214, 0.9623413681983948, 0.9611133933067322]"
      ]
     },
     "execution_count": 104,
     "metadata": {},
     "output_type": "execute_result"
    }
   ],
   "source": [
    "alex4_ev = alex4.evaluate(train_gen)\n",
    "alex4_ev"
   ]
  },
  {
   "cell_type": "markdown",
   "id": "9766ee2d-2bd5-40fc-ba77-909c82c821c6",
   "metadata": {},
   "source": [
    "<a name=\"VGG16\"></a>\n",
    "## 9. VGG16"
   ]
  },
  {
   "cell_type": "markdown",
   "id": "69eabab8-8648-4e11-afe7-e8764cec1297",
   "metadata": {},
   "source": [
    "In diesem Kapitel erfolgt nun das Training der CNN-Modelle auf Basis der VGG16-Architektur. Wie beim AlexNet wird das Training auf die unbalancierten Originaldaten durchgeführt, bevor anschließend die Oversampling-Datensätze verwendet werden.<br>"
   ]
  },
  {
   "cell_type": "markdown",
   "id": "55c3aa1e-c3be-4cb5-a214-ac1758ad8edc",
   "metadata": {},
   "source": [
    "<a name=\"VGG16_Org\"></a>\n",
    "### 9.1 Unbalancierte Daten"
   ]
  },
  {
   "cell_type": "markdown",
   "id": "9ab2c8b3-e144-4b52-9724-1420f1c783a7",
   "metadata": {},
   "source": [
    "Zunächst wird das erste VGG16-Netz `vgg1` definiert."
   ]
  },
  {
   "cell_type": "code",
   "execution_count": 161,
   "id": "ee08051d-1181-4885-a827-361ac2160d02",
   "metadata": {},
   "outputs": [],
   "source": [
    "vgg1 = Sequential([\n",
    "    Conv2D (filters =64, kernel_size =(3,3), padding ='same', activation='relu', input_shape = (224,224,3)),\n",
    "    Conv2D (filters =64, kernel_size =(3,3), padding ='same', activation='relu'),\n",
    "    MaxPooling2D(pool_size =(2,2), strides =(2,2), padding ='same'),\n",
    "    Conv2D (filters =128, kernel_size =(3,3), padding ='same', activation='relu'),\n",
    "    Conv2D (filters =128, kernel_size =(3,3), padding ='same', activation='relu'),\n",
    "    MaxPooling2D(pool_size =(2,2), strides =(2,2), padding ='same'),\n",
    "    Conv2D (filters =256, kernel_size =(3,3), padding ='same', activation='relu'),\n",
    "    Conv2D (filters =256, kernel_size =(3,3), padding ='same', activation='relu'),\n",
    "    Conv2D (filters =256, kernel_size =(3,3), padding ='same', activation='relu'),\n",
    "    MaxPooling2D(pool_size =(2,2), strides =(2,2), padding ='same'),\n",
    "    Conv2D (filters =512, kernel_size =(3,3), padding ='same', activation='relu'),\n",
    "    Conv2D (filters =512, kernel_size =(3,3), padding ='same', activation='relu'),\n",
    "    Conv2D (filters =512, kernel_size =(3,3), padding ='same', activation='relu'),\n",
    "    MaxPooling2D(pool_size =(2,2), strides =(2,2), padding ='same'),\n",
    "    Conv2D (filters =512, kernel_size =(3,3), padding ='same', activation='relu'),\n",
    "    Conv2D (filters =512, kernel_size =(3,3), padding ='same', activation='relu'),\n",
    "    Conv2D (filters =512, kernel_size =(3,3), padding ='same', activation='relu'),\n",
    "    MaxPooling2D(pool_size =(2,2), strides =(2,2), padding ='same'),\n",
    "    Flatten(),\n",
    "    Dense(units = 4096, activation ='relu'),\n",
    "    Dense(units = 4096, activation ='relu'),\n",
    "    Dense(units = 3, activation ='softmax')\n",
    "])"
   ]
  },
  {
   "cell_type": "markdown",
   "id": "2b85b093-4bd4-45e8-97ae-5b155b5882cb",
   "metadata": {},
   "source": [
    "Die Ausgabe der Layeranzahl ergibt, dass das VGG16-Modell 22 Layer besitzt, dies sind 10 mehr als die AlexNet-Modelle. Das VGG16-Netz ist also im Vergleich deutlich tiefer."
   ]
  },
  {
   "cell_type": "code",
   "execution_count": 162,
   "id": "16288c61-2016-4f46-ae0e-27541e336f47",
   "metadata": {},
   "outputs": [
    {
     "data": {
      "text/plain": [
       "22"
      ]
     },
     "execution_count": 162,
     "metadata": {},
     "output_type": "execute_result"
    }
   ],
   "source": [
    "len(vgg1.layers)"
   ]
  },
  {
   "cell_type": "markdown",
   "id": "67b40d75-3a12-473b-a4f0-2c21f1ef095d",
   "metadata": {},
   "source": [
    "Zur besseren Vergleichbarkeit wird auch hier mit der Standard-Lernrate von 0,001 gestartet."
   ]
  },
  {
   "cell_type": "code",
   "execution_count": 163,
   "id": "afe88171-e557-4a63-b386-9431a7341396",
   "metadata": {},
   "outputs": [],
   "source": [
    "vgg1.compile(loss= 'categorical_crossentropy',\n",
    "              optimizer=keras.optimizers.Adam(learning_rate=0.001),\n",
    "              metrics=['accuracy',keras.metrics.Recall()])"
   ]
  },
  {
   "cell_type": "markdown",
   "id": "e1f8a153-44d7-4280-9c48-455b2ba95a7e",
   "metadata": {},
   "source": [
    "Wie beim AlexNet wird auch beim VGG16 ein Early-Stopping mit den gleichen Parametern angewendet."
   ]
  },
  {
   "cell_type": "code",
   "execution_count": 164,
   "id": "2b0a07f9-e8bd-42b8-a262-6e93cdb8c886",
   "metadata": {},
   "outputs": [],
   "source": [
    "vgg_cb = [keras.callbacks.EarlyStopping(monitor = 'val_loss', mode = 'min', verbose = 1, patience = 5)]"
   ]
  },
  {
   "cell_type": "markdown",
   "id": "ccf37155-34a7-46bb-9221-9f6271788ced",
   "metadata": {},
   "source": [
    "Anschließend erfolgt das erste Training mittels VGG16-Architektur auf die unbalancierten Daten."
   ]
  },
  {
   "cell_type": "code",
   "execution_count": 165,
   "id": "086b73c0-54a1-4920-8b00-4aec4291af50",
   "metadata": {},
   "outputs": [
    {
     "name": "stdout",
     "output_type": "stream",
     "text": [
      "Epoch 1/20\n",
      "77/77 [==============================] - 10s 76ms/step - loss: 0.8917 - accuracy: 0.7282 - recall_27: 0.6541 - val_loss: 0.6076 - val_accuracy: 0.7961 - val_recall_27: 0.7961\n",
      "Epoch 2/20\n",
      "77/77 [==============================] - 6s 72ms/step - loss: 0.6012 - accuracy: 0.7974 - recall_27: 0.7974 - val_loss: 0.6029 - val_accuracy: 0.7961 - val_recall_27: 0.7961\n",
      "Epoch 3/20\n",
      "77/77 [==============================] - 6s 74ms/step - loss: 0.5983 - accuracy: 0.7974 - recall_27: 0.7974 - val_loss: 0.6085 - val_accuracy: 0.7961 - val_recall_27: 0.7961\n",
      "Epoch 4/20\n",
      "77/77 [==============================] - 6s 72ms/step - loss: 0.6009 - accuracy: 0.7974 - recall_27: 0.7974 - val_loss: 0.6003 - val_accuracy: 0.7961 - val_recall_27: 0.7961\n",
      "Epoch 5/20\n",
      "77/77 [==============================] - 6s 75ms/step - loss: 0.5968 - accuracy: 0.7974 - recall_27: 0.7974 - val_loss: 0.6100 - val_accuracy: 0.7961 - val_recall_27: 0.7961\n",
      "Epoch 6/20\n",
      "77/77 [==============================] - 6s 76ms/step - loss: 0.5941 - accuracy: 0.7974 - recall_27: 0.7974 - val_loss: 0.6061 - val_accuracy: 0.7961 - val_recall_27: 0.7961\n",
      "Epoch 7/20\n",
      "77/77 [==============================] - 6s 73ms/step - loss: 0.5937 - accuracy: 0.7974 - recall_27: 0.7974 - val_loss: 0.6032 - val_accuracy: 0.7961 - val_recall_27: 0.7961\n",
      "Epoch 8/20\n",
      "77/77 [==============================] - 6s 72ms/step - loss: 0.5954 - accuracy: 0.7974 - recall_27: 0.7974 - val_loss: 0.6064 - val_accuracy: 0.7961 - val_recall_27: 0.7961\n",
      "Epoch 9/20\n",
      "77/77 [==============================] - 6s 76ms/step - loss: 0.5925 - accuracy: 0.7974 - recall_27: 0.7974 - val_loss: 0.6011 - val_accuracy: 0.7961 - val_recall_27: 0.7961\n",
      "Epoch 9: early stopping\n"
     ]
    }
   ],
   "source": [
    "vgg1_hist = vgg1.fit(train_gen, validation_data = valid_gen, epochs = 20, callbacks = vgg_cb)"
   ]
  },
  {
   "cell_type": "markdown",
   "id": "8b7b06a1-5c7e-41de-9884-a321df34f3bb",
   "metadata": {},
   "source": [
    "Das Training wird bereits nach 9 Epochen abgebrochen, das der Loss-Wert der Validierung nicht mehr gesunken bzw. sogar über alle Epochen konstant geblieben ist."
   ]
  },
  {
   "cell_type": "code",
   "execution_count": 166,
   "id": "a8cffdae-cea3-4087-a00f-f6d95c73bba0",
   "metadata": {},
   "outputs": [],
   "source": [
    "vgg1_res = pd.DataFrame(vgg1_hist.history)"
   ]
  },
  {
   "cell_type": "markdown",
   "id": "47a5ab3f-914a-476c-8d7e-010b8edacdf8",
   "metadata": {},
   "source": [
    "Die Evaluierung ergibt das schlechte Ergebnis von 58,9% Loss und lediglich 79,7% Accuracy. Die Messwerte sind über alle trainierten Epochen kaum verändert, was darauf schließen lässt, dass das Netz kaum auf die Daten trainieren konnte und daher Underfitting vorliegt. Die Lernrate scheint im Vergleich zur tiefen Netzstruktur zu hoch, da gesuchte Mimima übersprungen werden."
   ]
  },
  {
   "cell_type": "code",
   "execution_count": 167,
   "id": "97d519e3-3a59-4903-8562-134cb51678dd",
   "metadata": {},
   "outputs": [
    {
     "name": "stdout",
     "output_type": "stream",
     "text": [
      "77/77 [==============================] - 4s 51ms/step - loss: 0.5888 - accuracy: 0.7974 - recall_27: 0.7974\n"
     ]
    },
    {
     "data": {
      "text/plain": [
       "[0.5888434052467346, 0.797380268573761, 0.797380268573761]"
      ]
     },
     "execution_count": 167,
     "metadata": {},
     "output_type": "execute_result"
    }
   ],
   "source": [
    "vgg1_ev = vgg1.evaluate(train_gen)\n",
    "vgg1_ev"
   ]
  },
  {
   "cell_type": "markdown",
   "id": "66ddb0e7-048a-4109-aee5-dbf61452d321",
   "metadata": {},
   "source": [
    "Um dies zu prüfen, wird ein weiteres VGG16 Netz `vgg2` definiert."
   ]
  },
  {
   "cell_type": "code",
   "execution_count": 177,
   "id": "cb922842-0ae8-4a7c-a123-513ae32e69fb",
   "metadata": {},
   "outputs": [],
   "source": [
    "vgg2 = Sequential([\n",
    "    Conv2D (filters =64, kernel_size =(3,3), padding ='same', activation='relu', input_shape = (224,224,3)),\n",
    "    Conv2D (filters =64, kernel_size =(3,3), padding ='same', activation='relu'),\n",
    "    MaxPooling2D(pool_size =(2,2), strides =(2,2), padding ='same'),\n",
    "    Conv2D (filters =128, kernel_size =(3,3), padding ='same', activation='relu'),\n",
    "    Conv2D (filters =128, kernel_size =(3,3), padding ='same', activation='relu'),\n",
    "    MaxPooling2D(pool_size =(2,2), strides =(2,2), padding ='same'),\n",
    "    Conv2D (filters =256, kernel_size =(3,3), padding ='same', activation='relu'),\n",
    "    Conv2D (filters =256, kernel_size =(3,3), padding ='same', activation='relu'),\n",
    "    Conv2D (filters =256, kernel_size =(3,3), padding ='same', activation='relu'),\n",
    "    MaxPooling2D(pool_size =(2,2), strides =(2,2), padding ='same'),\n",
    "    Conv2D (filters =512, kernel_size =(3,3), padding ='same', activation='relu'),\n",
    "    Conv2D (filters =512, kernel_size =(3,3), padding ='same', activation='relu'),\n",
    "    Conv2D (filters =512, kernel_size =(3,3), padding ='same', activation='relu'),\n",
    "    MaxPooling2D(pool_size =(2,2), strides =(2,2), padding ='same'),\n",
    "    Conv2D (filters =512, kernel_size =(3,3), padding ='same', activation='relu'),\n",
    "    Conv2D (filters =512, kernel_size =(3,3), padding ='same', activation='relu'),\n",
    "    Conv2D (filters =512, kernel_size =(3,3), padding ='same', activation='relu'),\n",
    "    MaxPooling2D(pool_size =(2,2), strides =(2,2), padding ='same'),\n",
    "    Flatten(),\n",
    "    Dense(units = 4096, activation ='relu'),\n",
    "    Dense(units = 4096, activation ='relu'),\n",
    "    Dense(units = 3, activation ='softmax')\n",
    "])"
   ]
  },
  {
   "cell_type": "markdown",
   "id": "80e9507d-bc7e-4b8c-b87b-0c1b717ee906",
   "metadata": {},
   "source": [
    "Um einen Vergleich zu AlexNet herzustellen, wird die Lernrate zunächst nur auf 0,0008 reduziert. Es ist aber aufgrund der schlechten Ergebnisse zuvor davon auszugehen, dass die Lernrate immernoch zu hoch ist und somit keine guten Ergebnisse erzielt werden können."
   ]
  },
  {
   "cell_type": "code",
   "execution_count": 178,
   "id": "a2b76a9d-724c-4338-beb3-b73da59552fb",
   "metadata": {},
   "outputs": [],
   "source": [
    "vgg2.compile(loss= 'categorical_crossentropy',\n",
    "              optimizer=keras.optimizers.Adam(learning_rate=0.0008),\n",
    "              metrics=['accuracy',keras.metrics.Recall()])"
   ]
  },
  {
   "cell_type": "code",
   "execution_count": 179,
   "id": "e28e2997-a461-462f-a6d6-455423c36c12",
   "metadata": {},
   "outputs": [
    {
     "name": "stdout",
     "output_type": "stream",
     "text": [
      "Epoch 1/20\n",
      "77/77 [==============================] - 10s 76ms/step - loss: 0.7608 - accuracy: 0.7740 - recall_30: 0.6791 - val_loss: 0.6024 - val_accuracy: 0.7961 - val_recall_30: 0.7961\n",
      "Epoch 2/20\n",
      "77/77 [==============================] - 6s 72ms/step - loss: 0.5976 - accuracy: 0.7974 - recall_30: 0.7974 - val_loss: 0.6050 - val_accuracy: 0.7961 - val_recall_30: 0.7961\n",
      "Epoch 3/20\n",
      "77/77 [==============================] - 6s 73ms/step - loss: 0.5940 - accuracy: 0.7974 - recall_30: 0.7974 - val_loss: 0.6015 - val_accuracy: 0.7961 - val_recall_30: 0.7961\n",
      "Epoch 4/20\n",
      "77/77 [==============================] - 6s 74ms/step - loss: 0.5959 - accuracy: 0.7974 - recall_30: 0.7974 - val_loss: 0.6137 - val_accuracy: 0.7961 - val_recall_30: 0.7961\n",
      "Epoch 5/20\n",
      "77/77 [==============================] - 6s 74ms/step - loss: 0.6043 - accuracy: 0.7974 - recall_30: 0.7974 - val_loss: 0.6120 - val_accuracy: 0.7961 - val_recall_30: 0.7961\n",
      "Epoch 6/20\n",
      "77/77 [==============================] - 6s 73ms/step - loss: 0.6009 - accuracy: 0.7974 - recall_30: 0.7974 - val_loss: 0.6004 - val_accuracy: 0.7961 - val_recall_30: 0.7961\n",
      "Epoch 7/20\n",
      "77/77 [==============================] - 6s 74ms/step - loss: 0.5959 - accuracy: 0.7974 - recall_30: 0.7974 - val_loss: 0.6045 - val_accuracy: 0.7961 - val_recall_30: 0.7961\n",
      "Epoch 8/20\n",
      "77/77 [==============================] - 6s 72ms/step - loss: 0.5916 - accuracy: 0.7974 - recall_30: 0.7974 - val_loss: 0.6010 - val_accuracy: 0.7961 - val_recall_30: 0.7961\n",
      "Epoch 9/20\n",
      "77/77 [==============================] - 6s 73ms/step - loss: 0.5927 - accuracy: 0.7974 - recall_30: 0.7974 - val_loss: 0.6091 - val_accuracy: 0.7961 - val_recall_30: 0.7961\n",
      "Epoch 10/20\n",
      "77/77 [==============================] - 6s 73ms/step - loss: 0.5920 - accuracy: 0.7974 - recall_30: 0.7974 - val_loss: 0.6048 - val_accuracy: 0.7961 - val_recall_30: 0.7961\n",
      "Epoch 11/20\n",
      "77/77 [==============================] - 6s 75ms/step - loss: 0.5917 - accuracy: 0.7974 - recall_30: 0.7974 - val_loss: 0.6019 - val_accuracy: 0.7961 - val_recall_30: 0.7961\n",
      "Epoch 11: early stopping\n"
     ]
    }
   ],
   "source": [
    "vgg2_hist = vgg2.fit(train_gen, validation_data = valid_gen, epochs = 20, callbacks = vgg_cb)"
   ]
  },
  {
   "cell_type": "markdown",
   "id": "18448c8f-04ba-4e0b-bbbe-c6b2e30afec7",
   "metadata": {},
   "source": [
    "Der Abbruch des Trainings erfolgt diesmal zwar nicht schon nach 9, dafür aber nach 11 Epochen."
   ]
  },
  {
   "cell_type": "code",
   "execution_count": 180,
   "id": "00f7b6e5-087d-451e-855e-6cf0cb5dbbbe",
   "metadata": {},
   "outputs": [],
   "source": [
    "vgg2_res = pd.DataFrame(vgg2_hist.history)"
   ]
  },
  {
   "cell_type": "markdown",
   "id": "0edb0d61-06ab-4033-8ac0-d8be0b2aa58b",
   "metadata": {},
   "source": [
    "Wie erwartet, haben sich die Lernergebnisse des Netzes kaum verändert."
   ]
  },
  {
   "cell_type": "code",
   "execution_count": 181,
   "id": "2fd194eb-8fc0-4173-9686-12d1516cf780",
   "metadata": {},
   "outputs": [
    {
     "name": "stdout",
     "output_type": "stream",
     "text": [
      "77/77 [==============================] - 4s 53ms/step - loss: 0.5895 - accuracy: 0.7974 - recall_30: 0.7974\n"
     ]
    },
    {
     "data": {
      "text/plain": [
       "[0.5894857048988342, 0.797380268573761, 0.797380268573761]"
      ]
     },
     "execution_count": 181,
     "metadata": {},
     "output_type": "execute_result"
    }
   ],
   "source": [
    "vgg2_ev = vgg2.evaluate(train_gen)\n",
    "vgg2_ev"
   ]
  },
  {
   "cell_type": "markdown",
   "id": "44970f96-5bbd-451c-9cf8-2decc6b54f33",
   "metadata": {},
   "source": [
    "Es wird daher noch ein weiteres Netz `vgg3` definiert."
   ]
  },
  {
   "cell_type": "code",
   "execution_count": 182,
   "id": "6b850597-a65a-48c0-98f6-aa3ccb296e67",
   "metadata": {},
   "outputs": [],
   "source": [
    "vgg3 = Sequential([\n",
    "    Conv2D (filters =64, kernel_size =(3,3), padding ='same', activation='relu', input_shape = (224,224,3)),\n",
    "    Conv2D (filters =64, kernel_size =(3,3), padding ='same', activation='relu'),\n",
    "    MaxPooling2D(pool_size =(2,2), strides =(2,2), padding ='same'),\n",
    "    Conv2D (filters =128, kernel_size =(3,3), padding ='same', activation='relu'),\n",
    "    Conv2D (filters =128, kernel_size =(3,3), padding ='same', activation='relu'),\n",
    "    MaxPooling2D(pool_size =(2,2), strides =(2,2), padding ='same'),\n",
    "    Conv2D (filters =256, kernel_size =(3,3), padding ='same', activation='relu'),\n",
    "    Conv2D (filters =256, kernel_size =(3,3), padding ='same', activation='relu'),\n",
    "    Conv2D (filters =256, kernel_size =(3,3), padding ='same', activation='relu'),\n",
    "    MaxPooling2D(pool_size =(2,2), strides =(2,2), padding ='same'),\n",
    "    Conv2D (filters =512, kernel_size =(3,3), padding ='same', activation='relu'),\n",
    "    Conv2D (filters =512, kernel_size =(3,3), padding ='same', activation='relu'),\n",
    "    Conv2D (filters =512, kernel_size =(3,3), padding ='same', activation='relu'),\n",
    "    MaxPooling2D(pool_size =(2,2), strides =(2,2), padding ='same'),\n",
    "    Conv2D (filters =512, kernel_size =(3,3), padding ='same', activation='relu'),\n",
    "    Conv2D (filters =512, kernel_size =(3,3), padding ='same', activation='relu'),\n",
    "    Conv2D (filters =512, kernel_size =(3,3), padding ='same', activation='relu'),\n",
    "    MaxPooling2D(pool_size =(2,2), strides =(2,2), padding ='same'),\n",
    "    Flatten(),\n",
    "    Dense(units = 4096, activation ='relu'),\n",
    "    Dense(units = 4096, activation ='relu'),\n",
    "    Dense(units = 3, activation ='softmax')\n",
    "])"
   ]
  },
  {
   "cell_type": "markdown",
   "id": "f3140b1b-c1ca-4ceb-bd5e-406ef20b4ef4",
   "metadata": {},
   "source": [
    "Die Lernrate wird nun deutlich auf 0,0001 reduziert."
   ]
  },
  {
   "cell_type": "code",
   "execution_count": 183,
   "id": "a7b5be8f-8153-46e2-83c9-b7d4c55bba0f",
   "metadata": {},
   "outputs": [],
   "source": [
    "vgg3.compile(loss= 'categorical_crossentropy',\n",
    "              optimizer=keras.optimizers.Adam(learning_rate=0.0001),\n",
    "              metrics=['accuracy',keras.metrics.Recall()])"
   ]
  },
  {
   "cell_type": "code",
   "execution_count": 184,
   "id": "e01e28ae-0741-4256-82b4-46bb9428bc03",
   "metadata": {},
   "outputs": [
    {
     "name": "stdout",
     "output_type": "stream",
     "text": [
      "Epoch 1/20\n",
      "77/77 [==============================] - 10s 74ms/step - loss: 0.4424 - accuracy: 0.8485 - recall_31: 0.8035 - val_loss: 0.2310 - val_accuracy: 0.9324 - val_recall_31: 0.9201\n",
      "Epoch 2/20\n",
      "77/77 [==============================] - 6s 74ms/step - loss: 0.2282 - accuracy: 0.9321 - recall_31: 0.9243 - val_loss: 0.2394 - val_accuracy: 0.9349 - val_recall_31: 0.9079\n",
      "Epoch 3/20\n",
      "77/77 [==============================] - 6s 77ms/step - loss: 0.2091 - accuracy: 0.9345 - recall_31: 0.9296 - val_loss: 0.2117 - val_accuracy: 0.9312 - val_recall_31: 0.9287\n",
      "Epoch 4/20\n",
      "77/77 [==============================] - 6s 73ms/step - loss: 0.1771 - accuracy: 0.9451 - recall_31: 0.9394 - val_loss: 0.1864 - val_accuracy: 0.9361 - val_recall_31: 0.9300\n",
      "Epoch 5/20\n",
      "77/77 [==============================] - 6s 77ms/step - loss: 0.1557 - accuracy: 0.9476 - recall_31: 0.9427 - val_loss: 0.2079 - val_accuracy: 0.9361 - val_recall_31: 0.9312\n",
      "Epoch 6/20\n",
      "77/77 [==============================] - 6s 76ms/step - loss: 0.1584 - accuracy: 0.9472 - recall_31: 0.9427 - val_loss: 0.1898 - val_accuracy: 0.9373 - val_recall_31: 0.9275\n",
      "Epoch 7/20\n",
      "77/77 [==============================] - 6s 72ms/step - loss: 0.1734 - accuracy: 0.9402 - recall_31: 0.9349 - val_loss: 0.1780 - val_accuracy: 0.9386 - val_recall_31: 0.9337\n",
      "Epoch 8/20\n",
      "77/77 [==============================] - 6s 71ms/step - loss: 0.1459 - accuracy: 0.9513 - recall_31: 0.9476 - val_loss: 0.1803 - val_accuracy: 0.9423 - val_recall_31: 0.9361\n",
      "Epoch 9/20\n",
      "77/77 [==============================] - 6s 73ms/step - loss: 0.1566 - accuracy: 0.9464 - recall_31: 0.9435 - val_loss: 0.2048 - val_accuracy: 0.9300 - val_recall_31: 0.9275\n",
      "Epoch 10/20\n",
      "77/77 [==============================] - 6s 75ms/step - loss: 0.1362 - accuracy: 0.9505 - recall_31: 0.9480 - val_loss: 0.1942 - val_accuracy: 0.9312 - val_recall_31: 0.9275\n",
      "Epoch 11/20\n",
      "77/77 [==============================] - 6s 81ms/step - loss: 0.1341 - accuracy: 0.9513 - recall_31: 0.9501 - val_loss: 0.1981 - val_accuracy: 0.9398 - val_recall_31: 0.9398\n",
      "Epoch 12/20\n",
      "77/77 [==============================] - 6s 74ms/step - loss: 0.1170 - accuracy: 0.9587 - recall_31: 0.9582 - val_loss: 0.1947 - val_accuracy: 0.9373 - val_recall_31: 0.9373\n",
      "Epoch 12: early stopping\n"
     ]
    }
   ],
   "source": [
    "vgg3_hist = vgg3.fit(train_gen, validation_data = valid_gen, epochs = 20, callbacks = vgg_cb)"
   ]
  },
  {
   "cell_type": "markdown",
   "id": "c7ff33eb-9b96-4443-85a8-ddfe3262b395",
   "metadata": {},
   "source": [
    "Das Training wird bei `vgg3` nach 12 Epochen abgebrochen. Allerdings ist eine deutliche Verbesserung des Lernergebnisses während der Epochen erkennbar."
   ]
  },
  {
   "cell_type": "code",
   "execution_count": 185,
   "id": "7afe2f54-ac22-4697-8fca-889df68a433b",
   "metadata": {},
   "outputs": [],
   "source": [
    "vgg3_res = pd.DataFrame(vgg3_hist.history)"
   ]
  },
  {
   "cell_type": "markdown",
   "id": "db14032b-d1b3-47c5-8bc5-04ee28dda43c",
   "metadata": {},
   "source": [
    "Das Netz konnte sich durch die reduzierte Lernrate stark verbessern und hat nun einen Loss-Wert von 9,3% sowie eine Accuracy von 96,6%, wodurch die gesetzten Zielwerte erreicht wurden."
   ]
  },
  {
   "cell_type": "code",
   "execution_count": 186,
   "id": "66c11834-6f0b-4af2-b91a-01378d00bb80",
   "metadata": {},
   "outputs": [
    {
     "name": "stdout",
     "output_type": "stream",
     "text": [
      "77/77 [==============================] - 4s 53ms/step - loss: 0.0938 - accuracy: 0.9664 - recall_31: 0.9652\n"
     ]
    },
    {
     "data": {
      "text/plain": [
       "[0.09384480863809586, 0.9664347171783447, 0.9652067422866821]"
      ]
     },
     "execution_count": 186,
     "metadata": {},
     "output_type": "execute_result"
    }
   ],
   "source": [
    "vgg3_ev = vgg3.evaluate(train_gen)\n",
    "vgg3_ev"
   ]
  },
  {
   "cell_type": "markdown",
   "id": "aa720e28-2e49-4b5e-a5cc-760d2c0a17c1",
   "metadata": {},
   "source": [
    "<a name=\"VGG16_OS\"></a>\n",
    "### 9.2 Mittels Oversampling balancierte Daten"
   ]
  },
  {
   "cell_type": "markdown",
   "id": "6af673e2-4a8f-459b-be5c-cb6f7b086b17",
   "metadata": {},
   "source": [
    "Nun erfolgt das Training der VGG16-Architektur auf die künstlich balancierten Daten. Dazu wird zunächst das Modell `vgg4` definiert."
   ]
  },
  {
   "cell_type": "code",
   "execution_count": 198,
   "id": "3dbf361b-8301-4cee-9839-4607a4b17271",
   "metadata": {},
   "outputs": [],
   "source": [
    "vgg4 = Sequential([\n",
    "    Conv2D (filters =64, kernel_size =(3,3), padding ='same', activation='relu', input_shape = (224,224,3)),\n",
    "    Conv2D (filters =64, kernel_size =(3,3), padding ='same', activation='relu'),\n",
    "    MaxPooling2D(pool_size =(2,2), strides =(2,2), padding ='same'),\n",
    "    Conv2D (filters =128, kernel_size =(3,3), padding ='same', activation='relu'),\n",
    "    Conv2D (filters =128, kernel_size =(3,3), padding ='same', activation='relu'),\n",
    "    MaxPooling2D(pool_size =(2,2), strides =(2,2), padding ='same'),\n",
    "    Conv2D (filters =256, kernel_size =(3,3), padding ='same', activation='relu'),\n",
    "    Conv2D (filters =256, kernel_size =(3,3), padding ='same', activation='relu'),\n",
    "    Conv2D (filters =256, kernel_size =(3,3), padding ='same', activation='relu'),\n",
    "    MaxPooling2D(pool_size =(2,2), strides =(2,2), padding ='same'),\n",
    "    Conv2D (filters =512, kernel_size =(3,3), padding ='same', activation='relu'),\n",
    "    Conv2D (filters =512, kernel_size =(3,3), padding ='same', activation='relu'),\n",
    "    Conv2D (filters =512, kernel_size =(3,3), padding ='same', activation='relu'),\n",
    "    MaxPooling2D(pool_size =(2,2), strides =(2,2), padding ='same'),\n",
    "    Conv2D (filters =512, kernel_size =(3,3), padding ='same', activation='relu'),\n",
    "    Conv2D (filters =512, kernel_size =(3,3), padding ='same', activation='relu'),\n",
    "    Conv2D (filters =512, kernel_size =(3,3), padding ='same', activation='relu'),\n",
    "    MaxPooling2D(pool_size =(2,2), strides =(2,2), padding ='same'),\n",
    "    Flatten(),\n",
    "    Dense(units = 4096, activation ='relu'),\n",
    "    Dense(units = 4096, activation ='relu'),\n",
    "    Dense(units = 3, activation ='softmax')\n",
    "])"
   ]
  },
  {
   "cell_type": "markdown",
   "id": "7866d6fe-ef55-4670-a426-7b77d6ce7c4f",
   "metadata": {},
   "source": [
    "Wie schon zuvor, wird im ersten Schritt die Lernrate zunächst auf 0,001 gesetzt."
   ]
  },
  {
   "cell_type": "code",
   "execution_count": 199,
   "id": "91b49ea1-05d2-403d-954e-c340abd6e8e1",
   "metadata": {},
   "outputs": [],
   "source": [
    "vgg4.compile(loss= 'categorical_crossentropy',\n",
    "              optimizer=keras.optimizers.Adam(learning_rate=0.001),\n",
    "              metrics=['accuracy',keras.metrics.Recall()])"
   ]
  },
  {
   "cell_type": "markdown",
   "id": "f6beeaa7-f691-45b4-a123-c5b3c74cc87f",
   "metadata": {},
   "source": [
    "Für das Training werden nun die beiden Generatoren verwendet, die im Rahmen des Oversampling erstellt wurden. Die Trainingsdaten sind daher balanciert, der Validierungsdatensatz ist wie die Originaldaten unbalanciert."
   ]
  },
  {
   "cell_type": "code",
   "execution_count": 200,
   "id": "cc7be790-e81a-4f0b-b876-5d734d147327",
   "metadata": {},
   "outputs": [
    {
     "name": "stdout",
     "output_type": "stream",
     "text": [
      "Epoch 1/20\n",
      "183/183 [==============================] - 14s 56ms/step - loss: 1.1161 - accuracy: 0.4254 - recall_34: 0.0187 - val_loss: 1.6184 - val_accuracy: 0.0356 - val_recall_34: 0.0000e+00\n",
      "Epoch 2/20\n",
      "183/183 [==============================] - 10s 55ms/step - loss: 1.0398 - accuracy: 0.4251 - recall_34: 0.0000e+00 - val_loss: 1.4497 - val_accuracy: 0.0356 - val_recall_34: 0.0000e+00\n",
      "Epoch 3/20\n",
      "183/183 [==============================] - 10s 55ms/step - loss: 1.0393 - accuracy: 0.4325 - recall_34: 0.0000e+00 - val_loss: 1.4702 - val_accuracy: 0.0356 - val_recall_34: 0.0000e+00\n",
      "Epoch 4/20\n",
      "183/183 [==============================] - 10s 55ms/step - loss: 1.0381 - accuracy: 0.4343 - recall_34: 0.0000e+00 - val_loss: 1.6579 - val_accuracy: 0.0356 - val_recall_34: 0.0000e+00\n",
      "Epoch 5/20\n",
      "183/183 [==============================] - 10s 55ms/step - loss: 1.0387 - accuracy: 0.4272 - recall_34: 0.0000e+00 - val_loss: 1.5838 - val_accuracy: 0.0356 - val_recall_34: 0.0000e+00\n",
      "Epoch 6/20\n",
      "183/183 [==============================] - 10s 55ms/step - loss: 1.0386 - accuracy: 0.4297 - recall_34: 0.0000e+00 - val_loss: 1.5492 - val_accuracy: 0.0356 - val_recall_34: 0.0000e+00\n",
      "Epoch 7/20\n",
      "183/183 [==============================] - 10s 55ms/step - loss: 1.0382 - accuracy: 0.4319 - recall_34: 0.0000e+00 - val_loss: 1.5490 - val_accuracy: 0.0356 - val_recall_34: 0.0000e+00\n",
      "Epoch 7: early stopping\n"
     ]
    }
   ],
   "source": [
    "vgg4_hist = vgg4.fit(train_gen_os, validation_data = valid_gen_os, epochs = 20, callbacks = vgg_cb)"
   ]
  },
  {
   "cell_type": "code",
   "execution_count": 201,
   "id": "eeec67f3-6449-4878-bbf4-65bf7254e409",
   "metadata": {},
   "outputs": [],
   "source": [
    "vgg4_res = pd.DataFrame(vgg4_hist.history)"
   ]
  },
  {
   "cell_type": "markdown",
   "id": "0be82035-2866-48a9-9135-20352186ee8c",
   "metadata": {},
   "source": [
    "Das Ergebnis ist sehr schlecht, das Training wird mangels Fortschritt bereits nach 7 Epochen abgebrochen. "
   ]
  },
  {
   "cell_type": "code",
   "execution_count": 202,
   "id": "96ab7157-c8fe-4404-b578-f7c8fd482edc",
   "metadata": {},
   "outputs": [
    {
     "name": "stdout",
     "output_type": "stream",
     "text": [
      "77/77 [==============================] - 5s 59ms/step - loss: 1.5503 - accuracy: 0.0299 - recall_34: 0.0000e+00\n"
     ]
    },
    {
     "data": {
      "text/plain": [
       "[1.550270438194275, 0.029881292954087257, 0.0]"
      ]
     },
     "execution_count": 202,
     "metadata": {},
     "output_type": "execute_result"
    }
   ],
   "source": [
    "vgg4_ev = vgg4.evaluate(train_gen)\n",
    "vgg4_ev"
   ]
  },
  {
   "cell_type": "markdown",
   "id": "ffb3d6ca-b8e4-425c-9e86-eac0cce5c891",
   "metadata": {},
   "source": [
    "Das nächste Modell `vgg5` wird definiert um zu versuchen, dass Ergebnis zu verbessern."
   ]
  },
  {
   "cell_type": "code",
   "execution_count": 223,
   "id": "9e3bd751-8280-4e2e-97ab-3dcf7ce8b507",
   "metadata": {},
   "outputs": [],
   "source": [
    "vgg5 = Sequential([\n",
    "    Conv2D (filters =64, kernel_size =(3,3), padding ='same', activation='relu', input_shape = (224,224,3)),\n",
    "    Conv2D (filters =64, kernel_size =(3,3), padding ='same', activation='relu'),\n",
    "    MaxPooling2D(pool_size =(2,2), strides =(2,2), padding ='same'),\n",
    "    Conv2D (filters =128, kernel_size =(3,3), padding ='same', activation='relu'),\n",
    "    Conv2D (filters =128, kernel_size =(3,3), padding ='same', activation='relu'),\n",
    "    MaxPooling2D(pool_size =(2,2), strides =(2,2), padding ='same'),\n",
    "    Conv2D (filters =256, kernel_size =(3,3), padding ='same', activation='relu'),\n",
    "    Conv2D (filters =256, kernel_size =(3,3), padding ='same', activation='relu'),\n",
    "    Conv2D (filters =256, kernel_size =(3,3), padding ='same', activation='relu'),\n",
    "    MaxPooling2D(pool_size =(2,2), strides =(2,2), padding ='same'),\n",
    "    Conv2D (filters =512, kernel_size =(3,3), padding ='same', activation='relu'),\n",
    "    Conv2D (filters =512, kernel_size =(3,3), padding ='same', activation='relu'),\n",
    "    Conv2D (filters =512, kernel_size =(3,3), padding ='same', activation='relu'),\n",
    "    MaxPooling2D(pool_size =(2,2), strides =(2,2), padding ='same'),\n",
    "    Conv2D (filters =512, kernel_size =(3,3), padding ='same', activation='relu'),\n",
    "    Conv2D (filters =512, kernel_size =(3,3), padding ='same', activation='relu'),\n",
    "    Conv2D (filters =512, kernel_size =(3,3), padding ='same', activation='relu'),\n",
    "    MaxPooling2D(pool_size =(2,2), strides =(2,2), padding ='same'),\n",
    "    Flatten(),\n",
    "    Dense(units = 4096, activation ='relu'),\n",
    "    Dense(units = 4096, activation ='relu'),\n",
    "    Dense(units = 3, activation ='softmax')\n",
    "])"
   ]
  },
  {
   "cell_type": "markdown",
   "id": "0ddbcb07-8cd5-4c2d-9f23-bef8568c13ae",
   "metadata": {},
   "source": [
    "Aufgrund des noch schlechteren Ergebnisses als bei `vgg1` wird der Schritt, die Lernrate auf 0,0008 zu setzen, übersprungen. Es wird direkt mit der Lernrate 0,0001 fortgefahren."
   ]
  },
  {
   "cell_type": "code",
   "execution_count": 224,
   "id": "0a5d2442-7287-4c97-aabd-93050404212a",
   "metadata": {},
   "outputs": [],
   "source": [
    "vgg5.compile(loss= 'categorical_crossentropy',\n",
    "              optimizer=keras.optimizers.Adam(learning_rate=0.0001),\n",
    "              metrics=['accuracy',keras.metrics.Recall()])"
   ]
  },
  {
   "cell_type": "code",
   "execution_count": 225,
   "id": "699277ec-c631-4ba9-89af-c271ced4a8ee",
   "metadata": {},
   "outputs": [
    {
     "name": "stdout",
     "output_type": "stream",
     "text": [
      "Epoch 1/20\n",
      "183/183 [==============================] - 14s 57ms/step - loss: 0.8506 - accuracy: 0.5283 - recall_39: 0.3243 - val_loss: 0.8573 - val_accuracy: 0.7199 - val_recall_39: 0.5799\n",
      "Epoch 2/20\n",
      "183/183 [==============================] - 10s 55ms/step - loss: 0.5387 - accuracy: 0.7756 - recall_39: 0.7278 - val_loss: 0.4042 - val_accuracy: 0.8489 - val_recall_39: 0.8489\n",
      "Epoch 3/20\n",
      "183/183 [==============================] - 10s 55ms/step - loss: 0.3245 - accuracy: 0.8737 - recall_39: 0.8680 - val_loss: 0.2375 - val_accuracy: 0.9177 - val_recall_39: 0.9152\n",
      "Epoch 4/20\n",
      "183/183 [==============================] - 10s 55ms/step - loss: 0.2348 - accuracy: 0.9130 - recall_39: 0.9087 - val_loss: 0.1628 - val_accuracy: 0.9435 - val_recall_39: 0.9410\n",
      "Epoch 5/20\n",
      "183/183 [==============================] - 10s 55ms/step - loss: 0.1615 - accuracy: 0.9426 - recall_39: 0.9402 - val_loss: 0.1890 - val_accuracy: 0.9472 - val_recall_39: 0.9459\n",
      "Epoch 6/20\n",
      "183/183 [==============================] - 10s 55ms/step - loss: 0.1120 - accuracy: 0.9663 - recall_39: 0.9640 - val_loss: 0.2720 - val_accuracy: 0.9312 - val_recall_39: 0.9312\n",
      "Epoch 7/20\n",
      "183/183 [==============================] - 10s 55ms/step - loss: 0.1063 - accuracy: 0.9628 - recall_39: 0.9623 - val_loss: 0.1631 - val_accuracy: 0.9472 - val_recall_39: 0.9447\n",
      "Epoch 8/20\n",
      "183/183 [==============================] - 10s 55ms/step - loss: 0.0684 - accuracy: 0.9801 - recall_39: 0.9793 - val_loss: 0.2696 - val_accuracy: 0.9287 - val_recall_39: 0.9287\n",
      "Epoch 9/20\n",
      "183/183 [==============================] - 10s 56ms/step - loss: 0.0393 - accuracy: 0.9873 - recall_39: 0.9872 - val_loss: 0.1910 - val_accuracy: 0.9459 - val_recall_39: 0.9447\n",
      "Epoch 9: early stopping\n"
     ]
    }
   ],
   "source": [
    "vgg5_hist = vgg5.fit(train_gen_os, validation_data = valid_gen_os, epochs = 20, callbacks = vgg_cb)"
   ]
  },
  {
   "cell_type": "code",
   "execution_count": 226,
   "id": "e58eb8de-a365-41a1-ae4c-77cccedf5ba8",
   "metadata": {},
   "outputs": [],
   "source": [
    "vgg5_res = pd.DataFrame(vgg5_hist.history)"
   ]
  },
  {
   "cell_type": "markdown",
   "id": "bb69a2fd-b07e-4d38-a551-c17bba6150af",
   "metadata": {},
   "source": [
    "Das Training wird zwar bereits nach 9 Epochen abgebrochen, dennoch konnte ein gutes Ergebnis erzielt werden. Der Loss-Wert beträgt nun 15,2%, die Accuracy liegt bei knapp 95,0%. Dennoch wird verglichen mit dem Training auf die unbalancierten Daten ein schlechteres Ergebnis erzielt."
   ]
  },
  {
   "cell_type": "code",
   "execution_count": 227,
   "id": "6db20ff3-4c85-41fe-ae27-a4fa3dece25f",
   "metadata": {},
   "outputs": [
    {
     "name": "stdout",
     "output_type": "stream",
     "text": [
      "77/77 [==============================] - 4s 51ms/step - loss: 0.1522 - accuracy: 0.9497 - recall_39: 0.9484\n"
     ]
    },
    {
     "data": {
      "text/plain": [
       "[0.15221171081066132, 0.9496520757675171, 0.9484240412712097]"
      ]
     },
     "execution_count": 227,
     "metadata": {},
     "output_type": "execute_result"
    }
   ],
   "source": [
    "vgg5_ev = vgg5.evaluate(train_gen)\n",
    "vgg5_ev"
   ]
  },
  {
   "cell_type": "markdown",
   "id": "a9d6a215-2941-4821-a695-c2bc7da36d8b",
   "metadata": {},
   "source": [
    "<a name=\"Vergleich\"></a>\n",
    "## 10. Vergleich"
   ]
  },
  {
   "cell_type": "markdown",
   "id": "bf327cac-c8d3-4c5b-a8a2-3ab573b9a7c9",
   "metadata": {},
   "source": [
    "Nachdem nun alle Modelle trainiert wurden und die Ergebnisse jeweils in DataFrames gespeichert wurden, können diese für einen anschaulichen Vergleich visualiert werden.<br> Zunächst folgt die Darstellung der beiden AlexNet-Modelle, die auf die unbalancierten Originaldaten trainiert wurden.<br>\n",
    "Es ist zu erkennen, dass es beim Modell `alex2` vor allem in den ersten Epochen einige Sprünge in den Verlaufskurven gibt. Zudem ist beim zweiten Modell die Accuracy der Validierungsdaten konstant unterhalb der Accuracy auf den Traininsdaten. Ähnlich verhält es sich bei den Loss-Werten. Der Loss-Wert der Validierung ist hier durchgehend größer als jener auf die Testdaten."
   ]
  },
  {
   "cell_type": "code",
   "execution_count": 264,
   "id": "c250bc04-fde8-463e-9cd6-e9a9c14551c2",
   "metadata": {},
   "outputs": [
    {
     "data": {
      "text/plain": [
       "<AxesSubplot:>"
      ]
     },
     "execution_count": 264,
     "metadata": {},
     "output_type": "execute_result"
    },
    {
     "data": {
      "image/png": "[encoded data removed]",
      "text/plain": [
       "<Figure size 1500x500 with 2 Axes>"
      ]
     },
     "metadata": {},
     "output_type": "display_data"
    }
   ],
   "source": [
    "fig, axes = plt.subplots(nrows=1, ncols=2, figsize=(15, 5))\n",
    "alex1_res.plot(ax=axes[0])\n",
    "alex2_res.plot(ax=axes[1])"
   ]
  },
  {
   "cell_type": "markdown",
   "id": "5562076f-8eb2-4f68-96e2-797032e13597",
   "metadata": {},
   "source": [
    "Anschließend erfolgt nun die Darstellung des Trainingsverlaufs der AlexNet-Modelle auf die balancierten Daten.<br>\n",
    "Vor allem bei `alex3` ist zu sehen, dass das Training zu Beginn sehr ungenau war. Nach etwa 4 Epochen verlief das Training zunächst konstant, wobei hier die Validierungsdaten wesentlich bessere Ergebnisse erzielten als die Trainingsdaten. Anschließend drehte sich dies allerdings wieder um.<br>\n",
    "Das Senken der Lernrate führte bei `alex4` wiederum zu dem Ergebnis, das bereits zu Beginn besser auf die Daten gelernt werden konnte. Auch hier sind verinzelte Sprünge in den Kurven vorhanden, dennoch zeichnet sich zum Ende des Trainings eine Tendenz zu steigenden Accuracy-Werten bzw. sinkenden Loss-Werten ab."
   ]
  },
  {
   "cell_type": "code",
   "execution_count": 265,
   "id": "57bcce45-89ae-4b49-9626-adefecc695e7",
   "metadata": {},
   "outputs": [
    {
     "data": {
      "text/plain": [
       "<AxesSubplot:>"
      ]
     },
     "execution_count": 265,
     "metadata": {},
     "output_type": "execute_result"
    },
    {
     "data": {
      "image/png": "[encoded data removed]",
      "text/plain": [
       "<Figure size 1500x500 with 2 Axes>"
      ]
     },
     "metadata": {},
     "output_type": "display_data"
    }
   ],
   "source": [
    "fig, axes = plt.subplots(nrows=1, ncols=2, figsize=(15, 5))\n",
    "alex3_res.plot(ax=axes[0])\n",
    "alex4_res.plot(ax=axes[1])"
   ]
  },
  {
   "cell_type": "markdown",
   "id": "bc03ee9c-d782-4ff1-9ae5-585e7d447f85",
   "metadata": {},
   "source": [
    "Nun folgt die Darstellung der Ergebnisse der VGG16-Modelle auf die unbalancierten Daten.<br>\n",
    "Sowohl bei `vgg1` und `vgg2` ist klar zu erkennen, dass das Training praktisch erfolglos war. Es findet keine Verbesserung der Accuracy statt, weshalb davon auszugehen ist, dass die größere Netztiefe und die dadurch mehr vorhandenen Neuronen nicht ausreichend auf die Daten lernen konnten. Erst eine deutliche Reduktion der Lernratebei `vgg3` führte zur einem besseren Ergebnis. Hier konnten sogar sehr gute Werte erzielt werden."
   ]
  },
  {
   "cell_type": "code",
   "execution_count": 267,
   "id": "07ce80f7-68a0-4abf-a37b-19a2f50550ed",
   "metadata": {},
   "outputs": [
    {
     "data": {
      "text/plain": [
       "<AxesSubplot:>"
      ]
     },
     "execution_count": 267,
     "metadata": {},
     "output_type": "execute_result"
    },
    {
     "data": {
      "image/png": "[encoded data removed]",
      "text/plain": [
       "<Figure size 1500x500 with 3 Axes>"
      ]
     },
     "metadata": {},
     "output_type": "display_data"
    }
   ],
   "source": [
    "fig, axes = plt.subplots(nrows=1, ncols=3, figsize=(15, 5))\n",
    "vgg1_res.plot(ax=axes[0])\n",
    "vgg2_res.plot(ax=axes[1])\n",
    "vgg3_res.plot(ax=axes[2])"
   ]
  },
  {
   "cell_type": "markdown",
   "id": "8064f054-cc85-4d27-8f32-7b421b8b3ccf",
   "metadata": {},
   "source": [
    "Ähnlich wie schon bei den unbalancierten Daten konnte das Netz sich mit der Standard-Lernrate bei `vgg4` ebenfalls nicht auf die Daten einstellen. DIe Reduktion der Lernrate führte auch hier bei `vgg5` zu einem recht guten Ergebnis, welches jedoch immernoch einen vergleichsweisen hohen Validierungs-Loss-Wert aufweist."
   ]
  },
  {
   "cell_type": "code",
   "execution_count": 268,
   "id": "d422a8fe-4af7-4fbb-9dc8-7c36632a238f",
   "metadata": {},
   "outputs": [
    {
     "data": {
      "text/plain": [
       "<AxesSubplot:>"
      ]
     },
     "execution_count": 268,
     "metadata": {},
     "output_type": "execute_result"
    },
    {
     "data": {
      "image/png": "[encoded data removed]",
      "text/plain": [
       "<Figure size 1500x500 with 2 Axes>"
      ]
     },
     "metadata": {},
     "output_type": "display_data"
    }
   ],
   "source": [
    "fig, axes = plt.subplots(nrows=1, ncols=2, figsize=(15, 5))\n",
    "vgg4_res.plot(ax=axes[0])\n",
    "vgg5_res.plot(ax=axes[1])"
   ]
  },
  {
   "cell_type": "markdown",
   "id": "2ed0db42-b8d4-402f-8da2-03bdef67b5ae",
   "metadata": {},
   "source": [
    "Abschließend werden noch die Ergebnisse der Netzevaluationen in DataFrames gesammelt, damit eine bessere Übersicht vorhanden ist und ein Vergleich gezogen werden kann. Dazu werden zunächst die Ergebnisse als Liste zusammengepackt und anschließend in ein DataFrame geladen."
   ]
  },
  {
   "cell_type": "code",
   "execution_count": 303,
   "id": "6cb721ee-8df7-4aea-ba4d-e9454a7afca3",
   "metadata": {},
   "outputs": [],
   "source": [
    "alex_zipped = list(zip(alex1_ev, alex2_ev, alex3_ev, alex4_ev))"
   ]
  },
  {
   "cell_type": "code",
   "execution_count": 304,
   "id": "0d7957f0-013a-4dc4-87a9-b82591c2e6d4",
   "metadata": {},
   "outputs": [],
   "source": [
    "df_alex = pd.DataFrame(alex_zipped, columns = ['Unbalanciert - lr = 0.001', 'Unbalanciert - lr = 0.0008', 'Balanciert - lr = 0.001', 'Balanciert - lr = 0.0008'], \n",
    "                      index = ['Loss', 'Accuracy', 'Recall'])"
   ]
  },
  {
   "cell_type": "markdown",
   "id": "0b0e2a5a-64fc-4ef6-a978-9a182d2a5266",
   "metadata": {},
   "source": [
    "Die Evaluationen der AlexNet-Modelle zeigen, dass zum einen mit der Standardlernrate von 0,001 bei den balancierten Daten eine leichte Ergebnisverbesserung erreicht werden konnte. Zudem konnte in beiden Fällen durch das Senken der Lernrate auf 0,0008 ein besseres Ergebnis erreicht werden. Interessant hierbei ist, dass die höchste Accuracy insgesamt zwar bei der reduzierten Lernrate auf die balancierten Daten erzielt wurde, jedoch der geringste Loss-Wert bei den unbalancierten Daten vorliegt."
   ]
  },
  {
   "cell_type": "code",
   "execution_count": 305,
   "id": "f8823533-2976-4f08-96fb-87bc8f9c11a6",
   "metadata": {},
   "outputs": [
    {
     "data": {
      "text/html": [
       "<div>\n",
       "<style scoped>\n",
       "    .dataframe tbody tr th:only-of-type {\n",
       "        vertical-align: middle;\n",
       "    }\n",
       "\n",
       "    .dataframe tbody tr th {\n",
       "        vertical-align: top;\n",
       "    }\n",
       "\n",
       "    .dataframe thead th {\n",
       "        text-align: right;\n",
       "    }\n",
       "</style>\n",
       "<table border=\"1\" class=\"dataframe\">\n",
       "  <thead>\n",
       "    <tr style=\"text-align: right;\">\n",
       "      <th></th>\n",
       "      <th>Unbalanciert - lr = 0.001</th>\n",
       "      <th>Unbalanciert - lr = 0.0008</th>\n",
       "      <th>Balanciert - lr = 0.001</th>\n",
       "      <th>Balanciert - lr = 0.0008</th>\n",
       "    </tr>\n",
       "  </thead>\n",
       "  <tbody>\n",
       "    <tr>\n",
       "      <th>Loss</th>\n",
       "      <td>0.178788</td>\n",
       "      <td>0.112329</td>\n",
       "      <td>0.155016</td>\n",
       "      <td>0.128621</td>\n",
       "    </tr>\n",
       "    <tr>\n",
       "      <th>Accuracy</th>\n",
       "      <td>0.944331</td>\n",
       "      <td>0.959476</td>\n",
       "      <td>0.955383</td>\n",
       "      <td>0.962341</td>\n",
       "    </tr>\n",
       "    <tr>\n",
       "      <th>Recall</th>\n",
       "      <td>0.943103</td>\n",
       "      <td>0.959476</td>\n",
       "      <td>0.954973</td>\n",
       "      <td>0.961113</td>\n",
       "    </tr>\n",
       "  </tbody>\n",
       "</table>\n",
       "</div>"
      ],
      "text/plain": [
       "          Unbalanciert - lr = 0.001  Unbalanciert - lr = 0.0008  \\\n",
       "Loss                       0.178788                    0.112329   \n",
       "Accuracy                   0.944331                    0.959476   \n",
       "Recall                     0.943103                    0.959476   \n",
       "\n",
       "          Balanciert - lr = 0.001  Balanciert - lr = 0.0008  \n",
       "Loss                     0.155016                  0.128621  \n",
       "Accuracy                 0.955383                  0.962341  \n",
       "Recall                   0.954973                  0.961113  "
      ]
     },
     "execution_count": 305,
     "metadata": {},
     "output_type": "execute_result"
    }
   ],
   "source": [
    "df_alex"
   ]
  },
  {
   "cell_type": "markdown",
   "id": "da61ca74-eea7-4c18-af47-a72c7d1c0a47",
   "metadata": {},
   "source": [
    "Wie bei den AlexNet-Evaluationen erfolgt nun das Verpacken der VGG16-Werte in eine Liste und anschließend die Darstellung als DataFrame."
   ]
  },
  {
   "cell_type": "code",
   "execution_count": 306,
   "id": "16fc0042-587e-4088-8b56-2d697be813f9",
   "metadata": {},
   "outputs": [],
   "source": [
    "vgg_zipped = list(zip(vgg1_ev, vgg2_ev, vgg3_ev, vgg4_ev, vgg5_ev))"
   ]
  },
  {
   "cell_type": "code",
   "execution_count": 307,
   "id": "6056120d-a455-4ceb-8cef-6ac7e53863eb",
   "metadata": {},
   "outputs": [],
   "source": [
    "df_vgg = pd.DataFrame(vgg_zipped, columns = ['Unbalanciert - lr = 0.001', 'Unbalanciert - lr = 0.0008', 'Unbalanciert - lr = 0.0001', \n",
    "                                             'Balanciert - lr = 0.001', 'Balanciert - lr = 0.0001'], \n",
    "                      index = ['Loss', 'Accuracy', 'Recall'])"
   ]
  },
  {
   "cell_type": "markdown",
   "id": "51e9a57d-0fe6-422c-8ee8-691c09a68a7f",
   "metadata": {},
   "source": [
    "Die Ergebnisse zeigen klar, dass sowohl die Lernrate von 0,001 als auch 0,0008 unpassend für das Training mit der VGG16-Architektur sind. Es konnten hierbei nur sehr schlechte Modelle konstruiert werden. Erst bei einer deutlich reduzierten Lernrate von 0,0001 wurden sowohl bei unbalancierten als auch bei balancierten Daten gute Ergebnisse erreicht. Hierbei ist auffällig, dass das Training auf die unbalancierten Daten sogar besser verlief, da hier Accuracy und Loss teilweise deutlich besser sind."
   ]
  },
  {
   "cell_type": "code",
   "execution_count": 308,
   "id": "0ca10d58-6161-4c84-9761-dd96e9677201",
   "metadata": {},
   "outputs": [
    {
     "data": {
      "text/html": [
       "<div>\n",
       "<style scoped>\n",
       "    .dataframe tbody tr th:only-of-type {\n",
       "        vertical-align: middle;\n",
       "    }\n",
       "\n",
       "    .dataframe tbody tr th {\n",
       "        vertical-align: top;\n",
       "    }\n",
       "\n",
       "    .dataframe thead th {\n",
       "        text-align: right;\n",
       "    }\n",
       "</style>\n",
       "<table border=\"1\" class=\"dataframe\">\n",
       "  <thead>\n",
       "    <tr style=\"text-align: right;\">\n",
       "      <th></th>\n",
       "      <th>Unbalanciert - lr = 0.001</th>\n",
       "      <th>Unbalanciert - lr = 0.0008</th>\n",
       "      <th>Unbalanciert - lr = 0.0001</th>\n",
       "      <th>Balanciert - lr = 0.001</th>\n",
       "      <th>Balanciert - lr = 0.0001</th>\n",
       "    </tr>\n",
       "  </thead>\n",
       "  <tbody>\n",
       "    <tr>\n",
       "      <th>Loss</th>\n",
       "      <td>0.588843</td>\n",
       "      <td>0.589486</td>\n",
       "      <td>0.093845</td>\n",
       "      <td>1.550270</td>\n",
       "      <td>0.152212</td>\n",
       "    </tr>\n",
       "    <tr>\n",
       "      <th>Accuracy</th>\n",
       "      <td>0.797380</td>\n",
       "      <td>0.797380</td>\n",
       "      <td>0.966435</td>\n",
       "      <td>0.029881</td>\n",
       "      <td>0.949652</td>\n",
       "    </tr>\n",
       "    <tr>\n",
       "      <th>Recall</th>\n",
       "      <td>0.797380</td>\n",
       "      <td>0.797380</td>\n",
       "      <td>0.965207</td>\n",
       "      <td>0.000000</td>\n",
       "      <td>0.948424</td>\n",
       "    </tr>\n",
       "  </tbody>\n",
       "</table>\n",
       "</div>"
      ],
      "text/plain": [
       "          Unbalanciert - lr = 0.001  Unbalanciert - lr = 0.0008  \\\n",
       "Loss                       0.588843                    0.589486   \n",
       "Accuracy                   0.797380                    0.797380   \n",
       "Recall                     0.797380                    0.797380   \n",
       "\n",
       "          Unbalanciert - lr = 0.0001  Balanciert - lr = 0.001  \\\n",
       "Loss                        0.093845                 1.550270   \n",
       "Accuracy                    0.966435                 0.029881   \n",
       "Recall                      0.965207                 0.000000   \n",
       "\n",
       "          Balanciert - lr = 0.0001  \n",
       "Loss                      0.152212  \n",
       "Accuracy                  0.949652  \n",
       "Recall                    0.948424  "
      ]
     },
     "execution_count": 308,
     "metadata": {},
     "output_type": "execute_result"
    }
   ],
   "source": [
    "df_vgg"
   ]
  },
  {
   "cell_type": "markdown",
   "id": "40aa7105-83b1-4b7c-81d2-45e7c2fc45ba",
   "metadata": {},
   "source": [
    "<a name=\"Fazit\"></a>\n",
    "## 11. Fazit und Ausblick"
   ]
  },
  {
   "cell_type": "markdown",
   "id": "dd5f046f-d8a7-4127-a432-c9655afc916d",
   "metadata": {},
   "source": [
    "Betrachtet man alle Ergebnisse lässt sich festhalten, dass die künstliche Generierung balancierter Daten keinen großen Einfluss darauf hatte, ob ein Modell ausreichende Lernresultate erzielt. Im Gegenteil konnten sogar beim Training auf die unbalancierten Originaldaten bessere Ergebnisse erreicht werden. Zudem konnte bewiesen werden, dass die Netztiefe entscheidenen Einfluss darauf hat, wie die Lernrate zu wählen ist. Ist ein tieferes Netz vorhanden wie im Falle der VGG16-Architektur, muss die Lernrate deutlich niedriger angesetzt werden, um gutes Lernen des Modells zu erreichen.<br>\n",
    "Zudem ist auffällig, dass je tiefer das Netz ist, desto schlechter schneiden die künstlichen generierten Daten ab. War bei den AlexNet-Modellen zumindest ein recht ähnliches Ergebnis zwischen balancierten und unbalancierten Training vorhanden, weicht dies bei den VGG16-Modellen stark ab. Mögliche Erklärung hierfür ist, dass die künstlich generierten Daten nicht so viele eindeutige und neue Merkmale enthalten wie die Originalen und diese, je tiefer das Netz ist, in diesem \"verloren\" gehen und damit das Lernergebnis verschlechtern.<br>\n",
    "Eine weitere Möglichkeit zur Untersuchung besteht darin, einen anderen Algorithmus für das Oversampling zu wählen als den SMOTE-Algorithmus. Generative Adversarial Networks, kurz GAN, bieten sich ebenfalls dafür an, künstliche Daten zu generieren und so ein Gleichgewicht zwischen den Klassen herzustellen. Alternativ könnte auch auf das Undersampling zurückgegriffen werden, allerdings ist hier damit zu rechnen, dass die zusätzliche Reduktion der Daten sich je nach Datensatz eher negativ vor allem bei tiefen Netzwerken wie der VGG16-Architektur auswirkt.<br>\n",
    "Zur weiteren Untersuchung können auch die Epochenanzahl erhöht sowie der Early-Stopping-Algorithmus entschärft werden, sodass dieser beispielsweise erst nach höheren Anzahl an stagnierenden Epochen eingreift oder ggf. eine andere Metrik zur Bewertung herangezogen wird."
   ]
  },
  {
   "cell_type": "markdown",
   "id": "90686d45-35b7-4215-aae9-b92e2f96fb19",
   "metadata": {},
   "source": [
    "<a name=\"Literatur\"></a>\n",
    "## 12. Literaturverzeichnis"
   ]
  },
  {
   "cell_type": "markdown",
   "id": "4afb5820-52d8-4c5f-a13e-f487138d9e39",
   "metadata": {},
   "source": [
    "[1] Larxel, _Face Mask Detection_, Link: https://www.kaggle.com/datasets/andrewmvd/face-mask-detection, 2020<br><br>\n",
    "[2] Sarthak Gupta, _Face Mask Detector_, Link: https://www.kaggle.com/code/sarthak02gupta/face-mask-detector, 2023<br><br>\n",
    "[3] Geeks for Geeks, _Plotting multiple bar charts using Matplotlib in Python_, Link: https://www.geeksforgeeks.org/plotting-multiple-bar-charts-using-matplotlib-in-python/, 2021<br><br>\n",
    "[4] Analytics Vidhya, _10 Techniques to deal with Imbalanced Classes in Machine Learning_, Link: https://www.analyticsvidhya.com/blog/2020/07/10-techniques-to-deal-with-class-imbalance-in-machine-learning/, 2022<br><br>\n",
    "[5] The imbalanced-learn developers, _SMOTE_, Link: https://imbalanced-learn.org/stable/references/generated/imblearn.over_sampling.SMOTE, 2023<br><br>\n",
    "[6] TensorFlow, _TensorFlow API Docs_, Link: https://www.tensorflow.org/api_docs/python/tf, 2023<br><br>\n",
    "[7] Keras, _Keras API reference_, Link: https://keras.io/api/, 2023<br><br>\n",
    "[8] Albers Uzila, _5 Popular CNN Architectures Clearly Explained and Visualized_, Link: https://towardsdatascience.com/5-most-well-known-cnn-architectures-visualized-af76f1f0065e#8f20, 2020<br><br>\n",
    "[9] Marc Mezger, _Computer Vision für Deep Learning – eine kurze Einführung_, Link: \n",
    "https://www.adesso.de/de/news/blog/computer-vision-fuer-deep-learning-eine-kurze-einfuehrung.jsp, 2023"
   ]
  }
 ],
 "metadata": {
  "kernelspec": {
   "display_name": "Python 3 (ipykernel)",
   "language": "python",
   "name": "python3"
  },
  "language_info": {
   "codemirror_mode": {
    "name": "ipython",
    "version": 3
   },
   "file_extension": ".py",
   "mimetype": "text/x-python",
   "name": "python",
   "nbconvert_exporter": "python",
   "pygments_lexer": "ipython3",
   "version": "3.9.7"
  }
 },
 "nbformat": 4,
 "nbformat_minor": 5
}
